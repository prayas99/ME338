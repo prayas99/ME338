{
  "nbformat": 4,
  "nbformat_minor": 0,
  "metadata": {
    "colab": {
      "name": "ME338Project.ipynb",
      "provenance": [],
      "collapsed_sections": [],
      "toc_visible": true,
      "mount_file_id": "1hsysTyMPYuNc0ds7V_C9Qy3F1gTjiSiE",
      "authorship_tag": "ABX9TyPUsfjhxSRGGi0Dgu76kHah",
      "include_colab_link": true
    },
    "kernelspec": {
      "name": "python3",
      "display_name": "Python 3"
    },
    "accelerator": "GPU"
  },
  "cells": [
    {
      "cell_type": "markdown",
      "metadata": {
        "id": "view-in-github",
        "colab_type": "text"
      },
      "source": [
        "<a href=\"https://colab.research.google.com/github/prayas99/ME338/blob/main/ME338Project.ipynb\" target=\"_parent\"><img src=\"https://colab.research.google.com/assets/colab-badge.svg\" alt=\"Open In Colab\"/></a>"
      ]
    },
    {
      "cell_type": "code",
      "metadata": {
        "id": "5K7llAJyUdYd",
        "colab": {
          "base_uri": "https://localhost:8080/"
        },
        "outputId": "8fbe72ee-e5e1-474b-a49f-09800f77519c"
      },
      "source": [
        "!pip install scikit-plot"
      ],
      "execution_count": null,
      "outputs": [
        {
          "output_type": "stream",
          "text": [
            "Requirement already satisfied: scikit-plot in /usr/local/lib/python3.6/dist-packages (0.3.7)\n",
            "Requirement already satisfied: scikit-learn>=0.18 in /usr/local/lib/python3.6/dist-packages (from scikit-plot) (0.22.2.post1)\n",
            "Requirement already satisfied: joblib>=0.10 in /usr/local/lib/python3.6/dist-packages (from scikit-plot) (0.17.0)\n",
            "Requirement already satisfied: matplotlib>=1.4.0 in /usr/local/lib/python3.6/dist-packages (from scikit-plot) (3.2.2)\n",
            "Requirement already satisfied: scipy>=0.9 in /usr/local/lib/python3.6/dist-packages (from scikit-plot) (1.4.1)\n",
            "Requirement already satisfied: numpy>=1.11.0 in /usr/local/lib/python3.6/dist-packages (from scikit-learn>=0.18->scikit-plot) (1.18.5)\n",
            "Requirement already satisfied: kiwisolver>=1.0.1 in /usr/local/lib/python3.6/dist-packages (from matplotlib>=1.4.0->scikit-plot) (1.3.1)\n",
            "Requirement already satisfied: cycler>=0.10 in /usr/local/lib/python3.6/dist-packages (from matplotlib>=1.4.0->scikit-plot) (0.10.0)\n",
            "Requirement already satisfied: pyparsing!=2.0.4,!=2.1.2,!=2.1.6,>=2.0.1 in /usr/local/lib/python3.6/dist-packages (from matplotlib>=1.4.0->scikit-plot) (2.4.7)\n",
            "Requirement already satisfied: python-dateutil>=2.1 in /usr/local/lib/python3.6/dist-packages (from matplotlib>=1.4.0->scikit-plot) (2.8.1)\n",
            "Requirement already satisfied: six in /usr/local/lib/python3.6/dist-packages (from cycler>=0.10->matplotlib>=1.4.0->scikit-plot) (1.15.0)\n"
          ],
          "name": "stdout"
        }
      ]
    },
    {
      "cell_type": "code",
      "metadata": {
        "id": "HY53p93elZ65"
      },
      "source": [
        "import pandas as pd\n",
        "%matplotlib inline\n",
        "import pandas as pd\n",
        "import numpy as np\n",
        "import math,os\n",
        "from numpy.random import choice\n",
        "import scikitplot as skplt\n",
        "from time import time"
      ],
      "execution_count": null,
      "outputs": []
    },
    {
      "cell_type": "code",
      "metadata": {
        "id": "3wJ8834h2wyq"
      },
      "source": [
        "df = pd.read_csv(\"/content/drive/My Drive/IITB Sem5/ME 338/Project/data_iterative.csv\")"
      ],
      "execution_count": null,
      "outputs": []
    },
    {
      "cell_type": "code",
      "metadata": {
        "id": "4fH7K4UYTfdD"
      },
      "source": [
        "def roundup(a, digits=4):\n",
        "    n = 10**-digits\n",
        "    return round(math.ceil(a / n) * n, digits)\n",
        "\n",
        "def isEven(num):\n",
        "    if num%2 ==0:\n",
        "        return True\n",
        "    return False\n",
        "\n",
        "def modLog(num):\n",
        "    try:\n",
        "        return log(num)\n",
        "    except:\n",
        "        return 0\n",
        "\n",
        "def loadNumpy(name,path='.'):\n",
        "    if \".npy\" in name:\n",
        "        fullPath = path+'/'+name\n",
        "    else:\n",
        "        fullPath = path+'/'+name+'.npy'\n",
        "    return np.load(fullPath, allow_pickle=True)"
      ],
      "execution_count": null,
      "outputs": []
    },
    {
      "cell_type": "code",
      "metadata": {
        "id": "YoDslHlARsI2"
      },
      "source": [
        "def mean_absolute_percentage_error(y_true, y_pred):\n",
        "\t'''\n",
        "\tscikit(sklearn) does not have support for mean absolute percentage error MAPE.\n",
        "\tThis is because the denominator can theoretically be 0 and so the value would be undefined.\n",
        "\tSo this is our implementation\n",
        "\t'''\n",
        "# \ty_true = check_array(y_true)\n",
        "# \ty_pred = check_array(y_pred)\n",
        "\n",
        "\treturn np.mean(np.abs((y_true - y_pred) / y_true)) * 100\n",
        "\n",
        "def r2(y_true,y_pred):\n",
        "    return roundup(r2_score(y_true,y_pred))\n",
        "\n",
        "def mse(y_true,y_pred):\n",
        "    return roundup(mean_squared_error(y_true,y_pred))\n",
        "\n",
        "def mae(y_true,y_pred):\n",
        "    return roundup(mean_absolute_error(y_true,y_pred))\n",
        "\n",
        "def mape(y_true, y_pred):\n",
        "    return roundup(mean_absolute_percentage_error(y_true,y_pred))"
      ],
      "execution_count": null,
      "outputs": []
    },
    {
      "cell_type": "code",
      "metadata": {
        "id": "ktDN3LCodt1t"
      },
      "source": [
        "from sklearn.linear_model import LinearRegression,Ridge,SGDRegressor,ElasticNet\n",
        "from sklearn import linear_model\n",
        "from sklearn.model_selection import train_test_split\n",
        "from sklearn.utils import shuffle\n",
        "from sklearn.utils.validation import check_array \n",
        "from sklearn.metrics import r2_score, mean_squared_error, mean_absolute_error\n",
        "from sklearn.svm import LinearSVR\n",
        "from sklearn.tree import DecisionTreeRegressor\n",
        "from sklearn.ensemble import RandomForestRegressor,ExtraTreesRegressor,GradientBoostingRegressor,AdaBoostRegressor,BaggingRegressor"
      ],
      "execution_count": null,
      "outputs": []
    },
    {
      "cell_type": "code",
      "metadata": {
        "id": "qRn2rIOa2zPI",
        "colab": {
          "base_uri": "https://localhost:8080/",
          "height": 380
        },
        "outputId": "c03b0970-2efc-4816-be2b-2ce87667d0bf"
      },
      "source": [
        "df.head(10)"
      ],
      "execution_count": null,
      "outputs": [
        {
          "output_type": "execute_result",
          "data": {
            "text/html": [
              "<div>\n",
              "<style scoped>\n",
              "    .dataframe tbody tr th:only-of-type {\n",
              "        vertical-align: middle;\n",
              "    }\n",
              "\n",
              "    .dataframe tbody tr th {\n",
              "        vertical-align: top;\n",
              "    }\n",
              "\n",
              "    .dataframe thead th {\n",
              "        text-align: right;\n",
              "    }\n",
              "</style>\n",
              "<table border=\"1\" class=\"dataframe\">\n",
              "  <thead>\n",
              "    <tr style=\"text-align: right;\">\n",
              "      <th></th>\n",
              "      <th>timestep</th>\n",
              "      <th>x_voxel</th>\n",
              "      <th>y_voxel</th>\n",
              "      <th>z_voxel</th>\n",
              "      <th>layerNum</th>\n",
              "      <th>time_creation</th>\n",
              "      <th>x_laser</th>\n",
              "      <th>y_laser</th>\n",
              "      <th>z_laser</th>\n",
              "      <th>x_distance</th>\n",
              "      <th>y_distance</th>\n",
              "      <th>z_distance</th>\n",
              "      <th>euclidean_distance_laser</th>\n",
              "      <th>Tminus1</th>\n",
              "      <th>Tminus2</th>\n",
              "      <th>Tminus3</th>\n",
              "      <th>Tminus4</th>\n",
              "      <th>Tminus5</th>\n",
              "      <th>T1_t-1</th>\n",
              "      <th>T2_t-1</th>\n",
              "      <th>T3_t-1</th>\n",
              "      <th>T4_t-1</th>\n",
              "      <th>T5_t-1</th>\n",
              "      <th>T6_t-1</th>\n",
              "      <th>T7_t-1</th>\n",
              "      <th>T8_t-1</th>\n",
              "      <th>T9_t-1</th>\n",
              "      <th>T10_t-1</th>\n",
              "      <th>T11_t-1</th>\n",
              "      <th>T12_t-1</th>\n",
              "      <th>T13_t-1</th>\n",
              "      <th>T14_t-1</th>\n",
              "      <th>T15_t-1</th>\n",
              "      <th>T16_t-1</th>\n",
              "      <th>T17_t-1</th>\n",
              "      <th>T18_t-1</th>\n",
              "      <th>T19_t-1</th>\n",
              "      <th>T20_t-1</th>\n",
              "      <th>T21_t-1</th>\n",
              "      <th>T22_t-1</th>\n",
              "      <th>T23_t-1</th>\n",
              "      <th>T24_t-1</th>\n",
              "      <th>T25_t-1</th>\n",
              "      <th>T26_t-1</th>\n",
              "      <th>T_self</th>\n",
              "    </tr>\n",
              "  </thead>\n",
              "  <tbody>\n",
              "    <tr>\n",
              "      <th>0</th>\n",
              "      <td>1.0</td>\n",
              "      <td>0.5</td>\n",
              "      <td>1.5</td>\n",
              "      <td>0.5</td>\n",
              "      <td>1.0</td>\n",
              "      <td>2.0</td>\n",
              "      <td>0.0</td>\n",
              "      <td>0.75</td>\n",
              "      <td>0.5</td>\n",
              "      <td>0.5</td>\n",
              "      <td>0.75</td>\n",
              "      <td>0.0</td>\n",
              "      <td>NaN</td>\n",
              "      <td>-99.0</td>\n",
              "      <td>-99.0</td>\n",
              "      <td>-99.0</td>\n",
              "      <td>-99.0</td>\n",
              "      <td>-99.0</td>\n",
              "      <td>-99.00</td>\n",
              "      <td>-99.00</td>\n",
              "      <td>-99.00</td>\n",
              "      <td>-99.00</td>\n",
              "      <td>-99.0</td>\n",
              "      <td>-99.0</td>\n",
              "      <td>-99.00</td>\n",
              "      <td>-99.00</td>\n",
              "      <td>-99.00</td>\n",
              "      <td>-99.00</td>\n",
              "      <td>-99.0</td>\n",
              "      <td>-99.0</td>\n",
              "      <td>-99.0</td>\n",
              "      <td>-99.0</td>\n",
              "      <td>-99.0</td>\n",
              "      <td>-99.0</td>\n",
              "      <td>-99.0</td>\n",
              "      <td>-99.0</td>\n",
              "      <td>-99.0</td>\n",
              "      <td>-99.0</td>\n",
              "      <td>-99.0</td>\n",
              "      <td>-99.0</td>\n",
              "      <td>-99.0</td>\n",
              "      <td>-99.0</td>\n",
              "      <td>-99.0</td>\n",
              "      <td>-99.0</td>\n",
              "      <td>4.00</td>\n",
              "    </tr>\n",
              "    <tr>\n",
              "      <th>1</th>\n",
              "      <td>2.0</td>\n",
              "      <td>2.5</td>\n",
              "      <td>1.5</td>\n",
              "      <td>0.5</td>\n",
              "      <td>1.0</td>\n",
              "      <td>0.5</td>\n",
              "      <td>2.6</td>\n",
              "      <td>0.75</td>\n",
              "      <td>0.5</td>\n",
              "      <td>0.1</td>\n",
              "      <td>0.75</td>\n",
              "      <td>0.0</td>\n",
              "      <td>NaN</td>\n",
              "      <td>300.0</td>\n",
              "      <td>-99.0</td>\n",
              "      <td>-99.0</td>\n",
              "      <td>-99.0</td>\n",
              "      <td>-99.0</td>\n",
              "      <td>3473.76</td>\n",
              "      <td>3520.21</td>\n",
              "      <td>3993.89</td>\n",
              "      <td>-99.00</td>\n",
              "      <td>-99.0</td>\n",
              "      <td>-99.0</td>\n",
              "      <td>3872.89</td>\n",
              "      <td>-99.00</td>\n",
              "      <td>3519.06</td>\n",
              "      <td>-99.00</td>\n",
              "      <td>-99.0</td>\n",
              "      <td>-99.0</td>\n",
              "      <td>-99.0</td>\n",
              "      <td>-99.0</td>\n",
              "      <td>-99.0</td>\n",
              "      <td>-99.0</td>\n",
              "      <td>-99.0</td>\n",
              "      <td>-99.0</td>\n",
              "      <td>-99.0</td>\n",
              "      <td>-99.0</td>\n",
              "      <td>-99.0</td>\n",
              "      <td>-99.0</td>\n",
              "      <td>-99.0</td>\n",
              "      <td>-99.0</td>\n",
              "      <td>-99.0</td>\n",
              "      <td>-99.0</td>\n",
              "      <td>3549.99</td>\n",
              "    </tr>\n",
              "    <tr>\n",
              "      <th>2</th>\n",
              "      <td>2.0</td>\n",
              "      <td>3.0</td>\n",
              "      <td>1.0</td>\n",
              "      <td>0.5</td>\n",
              "      <td>1.0</td>\n",
              "      <td>0.5</td>\n",
              "      <td>2.6</td>\n",
              "      <td>0.75</td>\n",
              "      <td>0.5</td>\n",
              "      <td>0.4</td>\n",
              "      <td>0.25</td>\n",
              "      <td>0.0</td>\n",
              "      <td>NaN</td>\n",
              "      <td>300.0</td>\n",
              "      <td>-99.0</td>\n",
              "      <td>-99.0</td>\n",
              "      <td>-99.0</td>\n",
              "      <td>-99.0</td>\n",
              "      <td>3993.89</td>\n",
              "      <td>2973.47</td>\n",
              "      <td>3553.11</td>\n",
              "      <td>3520.21</td>\n",
              "      <td>-99.0</td>\n",
              "      <td>-99.0</td>\n",
              "      <td>3478.99</td>\n",
              "      <td>3549.99</td>\n",
              "      <td>1614.58</td>\n",
              "      <td>1614.62</td>\n",
              "      <td>-99.0</td>\n",
              "      <td>-99.0</td>\n",
              "      <td>-99.0</td>\n",
              "      <td>-99.0</td>\n",
              "      <td>-99.0</td>\n",
              "      <td>-99.0</td>\n",
              "      <td>-99.0</td>\n",
              "      <td>-99.0</td>\n",
              "      <td>-99.0</td>\n",
              "      <td>-99.0</td>\n",
              "      <td>-99.0</td>\n",
              "      <td>-99.0</td>\n",
              "      <td>-99.0</td>\n",
              "      <td>-99.0</td>\n",
              "      <td>-99.0</td>\n",
              "      <td>-99.0</td>\n",
              "      <td>3519.06</td>\n",
              "    </tr>\n",
              "    <tr>\n",
              "      <th>3</th>\n",
              "      <td>2.0</td>\n",
              "      <td>2.0</td>\n",
              "      <td>0.5</td>\n",
              "      <td>0.5</td>\n",
              "      <td>1.0</td>\n",
              "      <td>0.5</td>\n",
              "      <td>2.6</td>\n",
              "      <td>0.75</td>\n",
              "      <td>0.5</td>\n",
              "      <td>0.6</td>\n",
              "      <td>0.25</td>\n",
              "      <td>0.0</td>\n",
              "      <td>NaN</td>\n",
              "      <td>300.0</td>\n",
              "      <td>-99.0</td>\n",
              "      <td>-99.0</td>\n",
              "      <td>-99.0</td>\n",
              "      <td>-99.0</td>\n",
              "      <td>3324.64</td>\n",
              "      <td>3478.99</td>\n",
              "      <td>3876.13</td>\n",
              "      <td>3872.89</td>\n",
              "      <td>-99.0</td>\n",
              "      <td>-99.0</td>\n",
              "      <td>3303.29</td>\n",
              "      <td>2329.08</td>\n",
              "      <td>3996.03</td>\n",
              "      <td>3993.89</td>\n",
              "      <td>-99.0</td>\n",
              "      <td>-99.0</td>\n",
              "      <td>-99.0</td>\n",
              "      <td>-99.0</td>\n",
              "      <td>-99.0</td>\n",
              "      <td>-99.0</td>\n",
              "      <td>-99.0</td>\n",
              "      <td>-99.0</td>\n",
              "      <td>-99.0</td>\n",
              "      <td>-99.0</td>\n",
              "      <td>-99.0</td>\n",
              "      <td>-99.0</td>\n",
              "      <td>-99.0</td>\n",
              "      <td>-99.0</td>\n",
              "      <td>-99.0</td>\n",
              "      <td>-99.0</td>\n",
              "      <td>3026.39</td>\n",
              "    </tr>\n",
              "    <tr>\n",
              "      <th>4</th>\n",
              "      <td>2.0</td>\n",
              "      <td>0.5</td>\n",
              "      <td>1.0</td>\n",
              "      <td>0.5</td>\n",
              "      <td>1.0</td>\n",
              "      <td>0.5</td>\n",
              "      <td>2.6</td>\n",
              "      <td>0.75</td>\n",
              "      <td>0.5</td>\n",
              "      <td>2.1</td>\n",
              "      <td>0.25</td>\n",
              "      <td>0.0</td>\n",
              "      <td>NaN</td>\n",
              "      <td>300.0</td>\n",
              "      <td>-99.0</td>\n",
              "      <td>-99.0</td>\n",
              "      <td>-99.0</td>\n",
              "      <td>-99.0</td>\n",
              "      <td>1554.23</td>\n",
              "      <td>2706.98</td>\n",
              "      <td>1643.90</td>\n",
              "      <td>5.00</td>\n",
              "      <td>-99.0</td>\n",
              "      <td>-99.0</td>\n",
              "      <td>1959.09</td>\n",
              "      <td>1763.85</td>\n",
              "      <td>1754.33</td>\n",
              "      <td>2869.67</td>\n",
              "      <td>-99.0</td>\n",
              "      <td>-99.0</td>\n",
              "      <td>-99.0</td>\n",
              "      <td>-99.0</td>\n",
              "      <td>-99.0</td>\n",
              "      <td>-99.0</td>\n",
              "      <td>-99.0</td>\n",
              "      <td>-99.0</td>\n",
              "      <td>-99.0</td>\n",
              "      <td>-99.0</td>\n",
              "      <td>-99.0</td>\n",
              "      <td>-99.0</td>\n",
              "      <td>-99.0</td>\n",
              "      <td>-99.0</td>\n",
              "      <td>-99.0</td>\n",
              "      <td>-99.0</td>\n",
              "      <td>1876.72</td>\n",
              "    </tr>\n",
              "    <tr>\n",
              "      <th>5</th>\n",
              "      <td>2.0</td>\n",
              "      <td>3.0</td>\n",
              "      <td>0.0</td>\n",
              "      <td>0.5</td>\n",
              "      <td>1.0</td>\n",
              "      <td>0.5</td>\n",
              "      <td>2.6</td>\n",
              "      <td>0.75</td>\n",
              "      <td>0.5</td>\n",
              "      <td>0.4</td>\n",
              "      <td>0.75</td>\n",
              "      <td>0.0</td>\n",
              "      <td>NaN</td>\n",
              "      <td>300.0</td>\n",
              "      <td>-99.0</td>\n",
              "      <td>-99.0</td>\n",
              "      <td>-99.0</td>\n",
              "      <td>-99.0</td>\n",
              "      <td>3996.03</td>\n",
              "      <td>-99.00</td>\n",
              "      <td>-99.00</td>\n",
              "      <td>3553.11</td>\n",
              "      <td>-99.0</td>\n",
              "      <td>-99.0</td>\n",
              "      <td>-99.00</td>\n",
              "      <td>3478.99</td>\n",
              "      <td>-99.00</td>\n",
              "      <td>1614.58</td>\n",
              "      <td>-99.0</td>\n",
              "      <td>-99.0</td>\n",
              "      <td>-99.0</td>\n",
              "      <td>-99.0</td>\n",
              "      <td>-99.0</td>\n",
              "      <td>-99.0</td>\n",
              "      <td>-99.0</td>\n",
              "      <td>-99.0</td>\n",
              "      <td>-99.0</td>\n",
              "      <td>-99.0</td>\n",
              "      <td>-99.0</td>\n",
              "      <td>-99.0</td>\n",
              "      <td>-99.0</td>\n",
              "      <td>-99.0</td>\n",
              "      <td>-99.0</td>\n",
              "      <td>-99.0</td>\n",
              "      <td>2975.86</td>\n",
              "    </tr>\n",
              "    <tr>\n",
              "      <th>6</th>\n",
              "      <td>2.0</td>\n",
              "      <td>3.0</td>\n",
              "      <td>0.5</td>\n",
              "      <td>0.5</td>\n",
              "      <td>1.0</td>\n",
              "      <td>0.5</td>\n",
              "      <td>2.6</td>\n",
              "      <td>0.75</td>\n",
              "      <td>0.5</td>\n",
              "      <td>0.4</td>\n",
              "      <td>0.25</td>\n",
              "      <td>0.0</td>\n",
              "      <td>NaN</td>\n",
              "      <td>300.0</td>\n",
              "      <td>-99.0</td>\n",
              "      <td>-99.0</td>\n",
              "      <td>-99.0</td>\n",
              "      <td>-99.0</td>\n",
              "      <td>3478.99</td>\n",
              "      <td>1614.58</td>\n",
              "      <td>2975.86</td>\n",
              "      <td>3519.06</td>\n",
              "      <td>-99.0</td>\n",
              "      <td>-99.0</td>\n",
              "      <td>3996.03</td>\n",
              "      <td>3993.89</td>\n",
              "      <td>-99.00</td>\n",
              "      <td>2973.47</td>\n",
              "      <td>-99.0</td>\n",
              "      <td>-99.0</td>\n",
              "      <td>-99.0</td>\n",
              "      <td>-99.0</td>\n",
              "      <td>-99.0</td>\n",
              "      <td>-99.0</td>\n",
              "      <td>-99.0</td>\n",
              "      <td>-99.0</td>\n",
              "      <td>-99.0</td>\n",
              "      <td>-99.0</td>\n",
              "      <td>-99.0</td>\n",
              "      <td>-99.0</td>\n",
              "      <td>-99.0</td>\n",
              "      <td>-99.0</td>\n",
              "      <td>-99.0</td>\n",
              "      <td>-99.0</td>\n",
              "      <td>3553.11</td>\n",
              "    </tr>\n",
              "    <tr>\n",
              "      <th>7</th>\n",
              "      <td>2.0</td>\n",
              "      <td>3.5</td>\n",
              "      <td>1.0</td>\n",
              "      <td>0.5</td>\n",
              "      <td>1.0</td>\n",
              "      <td>0.5</td>\n",
              "      <td>2.6</td>\n",
              "      <td>0.75</td>\n",
              "      <td>0.5</td>\n",
              "      <td>0.9</td>\n",
              "      <td>0.25</td>\n",
              "      <td>0.0</td>\n",
              "      <td>NaN</td>\n",
              "      <td>300.0</td>\n",
              "      <td>-99.0</td>\n",
              "      <td>-99.0</td>\n",
              "      <td>-99.0</td>\n",
              "      <td>-99.0</td>\n",
              "      <td>3519.06</td>\n",
              "      <td>-99.00</td>\n",
              "      <td>1614.58</td>\n",
              "      <td>1614.62</td>\n",
              "      <td>-99.0</td>\n",
              "      <td>-99.0</td>\n",
              "      <td>3553.11</td>\n",
              "      <td>3520.21</td>\n",
              "      <td>-99.00</td>\n",
              "      <td>-99.00</td>\n",
              "      <td>-99.0</td>\n",
              "      <td>-99.0</td>\n",
              "      <td>-99.0</td>\n",
              "      <td>-99.0</td>\n",
              "      <td>-99.0</td>\n",
              "      <td>-99.0</td>\n",
              "      <td>-99.0</td>\n",
              "      <td>-99.0</td>\n",
              "      <td>-99.0</td>\n",
              "      <td>-99.0</td>\n",
              "      <td>-99.0</td>\n",
              "      <td>-99.0</td>\n",
              "      <td>-99.0</td>\n",
              "      <td>-99.0</td>\n",
              "      <td>-99.0</td>\n",
              "      <td>-99.0</td>\n",
              "      <td>2973.47</td>\n",
              "    </tr>\n",
              "    <tr>\n",
              "      <th>8</th>\n",
              "      <td>2.0</td>\n",
              "      <td>2.0</td>\n",
              "      <td>1.0</td>\n",
              "      <td>0.5</td>\n",
              "      <td>1.0</td>\n",
              "      <td>0.5</td>\n",
              "      <td>2.6</td>\n",
              "      <td>0.75</td>\n",
              "      <td>0.5</td>\n",
              "      <td>0.6</td>\n",
              "      <td>0.25</td>\n",
              "      <td>0.0</td>\n",
              "      <td>NaN</td>\n",
              "      <td>300.0</td>\n",
              "      <td>-99.0</td>\n",
              "      <td>-99.0</td>\n",
              "      <td>-99.0</td>\n",
              "      <td>-99.0</td>\n",
              "      <td>2329.08</td>\n",
              "      <td>3993.89</td>\n",
              "      <td>3026.39</td>\n",
              "      <td>3473.76</td>\n",
              "      <td>-99.0</td>\n",
              "      <td>-99.0</td>\n",
              "      <td>3324.64</td>\n",
              "      <td>3003.77</td>\n",
              "      <td>3478.99</td>\n",
              "      <td>3549.99</td>\n",
              "      <td>-99.0</td>\n",
              "      <td>-99.0</td>\n",
              "      <td>-99.0</td>\n",
              "      <td>-99.0</td>\n",
              "      <td>-99.0</td>\n",
              "      <td>-99.0</td>\n",
              "      <td>-99.0</td>\n",
              "      <td>-99.0</td>\n",
              "      <td>-99.0</td>\n",
              "      <td>-99.0</td>\n",
              "      <td>-99.0</td>\n",
              "      <td>-99.0</td>\n",
              "      <td>-99.0</td>\n",
              "      <td>-99.0</td>\n",
              "      <td>-99.0</td>\n",
              "      <td>-99.0</td>\n",
              "      <td>3872.89</td>\n",
              "    </tr>\n",
              "    <tr>\n",
              "      <th>9</th>\n",
              "      <td>2.0</td>\n",
              "      <td>2.5</td>\n",
              "      <td>0.5</td>\n",
              "      <td>0.5</td>\n",
              "      <td>1.0</td>\n",
              "      <td>0.5</td>\n",
              "      <td>2.6</td>\n",
              "      <td>0.75</td>\n",
              "      <td>0.5</td>\n",
              "      <td>0.1</td>\n",
              "      <td>0.25</td>\n",
              "      <td>0.0</td>\n",
              "      <td>NaN</td>\n",
              "      <td>300.0</td>\n",
              "      <td>-99.0</td>\n",
              "      <td>-99.0</td>\n",
              "      <td>-99.0</td>\n",
              "      <td>-99.0</td>\n",
              "      <td>3026.39</td>\n",
              "      <td>3553.11</td>\n",
              "      <td>3996.03</td>\n",
              "      <td>3993.89</td>\n",
              "      <td>-99.0</td>\n",
              "      <td>-99.0</td>\n",
              "      <td>3876.13</td>\n",
              "      <td>3872.89</td>\n",
              "      <td>2975.86</td>\n",
              "      <td>3519.06</td>\n",
              "      <td>-99.0</td>\n",
              "      <td>-99.0</td>\n",
              "      <td>-99.0</td>\n",
              "      <td>-99.0</td>\n",
              "      <td>-99.0</td>\n",
              "      <td>-99.0</td>\n",
              "      <td>-99.0</td>\n",
              "      <td>-99.0</td>\n",
              "      <td>-99.0</td>\n",
              "      <td>-99.0</td>\n",
              "      <td>-99.0</td>\n",
              "      <td>-99.0</td>\n",
              "      <td>-99.0</td>\n",
              "      <td>-99.0</td>\n",
              "      <td>-99.0</td>\n",
              "      <td>-99.0</td>\n",
              "      <td>3478.99</td>\n",
              "    </tr>\n",
              "  </tbody>\n",
              "</table>\n",
              "</div>"
            ],
            "text/plain": [
              "   timestep  x_voxel  y_voxel  z_voxel  ...  T24_t-1  T25_t-1  T26_t-1   T_self\n",
              "0       1.0      0.5      1.5      0.5  ...    -99.0    -99.0    -99.0     4.00\n",
              "1       2.0      2.5      1.5      0.5  ...    -99.0    -99.0    -99.0  3549.99\n",
              "2       2.0      3.0      1.0      0.5  ...    -99.0    -99.0    -99.0  3519.06\n",
              "3       2.0      2.0      0.5      0.5  ...    -99.0    -99.0    -99.0  3026.39\n",
              "4       2.0      0.5      1.0      0.5  ...    -99.0    -99.0    -99.0  1876.72\n",
              "5       2.0      3.0      0.0      0.5  ...    -99.0    -99.0    -99.0  2975.86\n",
              "6       2.0      3.0      0.5      0.5  ...    -99.0    -99.0    -99.0  3553.11\n",
              "7       2.0      3.5      1.0      0.5  ...    -99.0    -99.0    -99.0  2973.47\n",
              "8       2.0      2.0      1.0      0.5  ...    -99.0    -99.0    -99.0  3872.89\n",
              "9       2.0      2.5      0.5      0.5  ...    -99.0    -99.0    -99.0  3478.99\n",
              "\n",
              "[10 rows x 45 columns]"
            ]
          },
          "metadata": {
            "tags": []
          },
          "execution_count": 45
        }
      ]
    },
    {
      "cell_type": "code",
      "metadata": {
        "id": "id4Rgw6FVTsu"
      },
      "source": [
        "import matplotlib.pyplot as plt"
      ],
      "execution_count": null,
      "outputs": []
    },
    {
      "cell_type": "code",
      "metadata": {
        "id": "e88qv595tY3X"
      },
      "source": [
        "historicalColumns,neighborColumns,neighborColumnsAggregated = [],[],[]\n",
        "\n",
        "for historical in range(5):\n",
        "    historicalColumns += ['Tminus'+str(historical+1)]\n",
        "\n",
        "for neighbor in range(26):\n",
        "    neighborColumns += ['T'+str(neighbor+1)+'_t-1']\n",
        "    \n",
        "for neighborDegree in range(3):\n",
        "        neighborColumnsAggregated += ['T_nbhDeg'+str(neighborDegree+1)+'_t-1']\n",
        "\n",
        "columns = ['voxelLat','voxelLong','voxelVert','voxelType','timestep','x_voxel','y_voxel','z_voxel','layerNum','time_creation', 'time_elapsed', 'x_laser','y_laser','z_laser','x_distance','y_distance','z_distance','euclidean_distance_laser'] + historicalColumns+ neighborColumns + neighborColumnsAggregated + ['T_self']\n",
        "\n",
        "#featureColumns = ['timestep','x_distance','y_distance','z_distance','layerNum','Tminus1','Tminus2']+neighborColumns\n",
        "featureColumns = ['timestep','x_distance','y_distance','z_distance','time_elapsed'] + historicalColumns + neighborColumns\n",
        "\n",
        "featureDisplay = featureColumns"
      ],
      "execution_count": null,
      "outputs": []
    },
    {
      "cell_type": "code",
      "metadata": {
        "id": "ZKdF1QLETtL8"
      },
      "source": [
        "def plot_feature_importances(et):\n",
        "    skplt.estimators.plot_feature_importances(et,text_fontsize=16,max_num_features=6,figsize=(24,4),feature_names=featureDisplay)"
      ],
      "execution_count": null,
      "outputs": []
    },
    {
      "cell_type": "code",
      "metadata": {
        "id": "_ePp0cZ9209t",
        "colab": {
          "base_uri": "https://localhost:8080/"
        },
        "outputId": "7e430ffe-aeb2-488b-a39c-a823a0f31d39"
      },
      "source": [
        "df.shape"
      ],
      "execution_count": null,
      "outputs": [
        {
          "output_type": "execute_result",
          "data": {
            "text/plain": [
              "(1716310, 45)"
            ]
          },
          "metadata": {
            "tags": []
          },
          "execution_count": 49
        }
      ]
    },
    {
      "cell_type": "code",
      "metadata": {
        "id": "p3r1lUWKdjRl",
        "colab": {
          "base_uri": "https://localhost:8080/"
        },
        "outputId": "49583e4f-3980-4f83-a5df-fdb01850b84a"
      },
      "source": [
        "df_big = df.copy()\n",
        "df_big['time_elapsed'] = df_big['timestep'] - df_big['time_creation']\n",
        "df2 = df_big.sample(10000)\n",
        "#df2 = df_big.copy()\n",
        "df_train = df2[df2['timestep'] < 200.0]\n",
        "df_test = df2[(df2['timestep'] >= 200.0) & (df2['timestep'] < 500.0)]\n",
        "print('Size of training data :', df_train.shape[0])\n",
        "print('Size of test data :', df_test.shape[0])\n",
        "X_train = df_train.loc[:,featureColumns]\n",
        "y_train = df_train['T_self']\n",
        "\n",
        "X_test = df_test.loc[:,featureColumns]\n",
        "y_test = df_test['T_self']\n",
        "\n",
        "X_train,y_train = shuffle(X_train,y_train,random_state=300)\n",
        "X_test,y_test = shuffle(X_test,y_test,random_state=300)"
      ],
      "execution_count": null,
      "outputs": [
        {
          "output_type": "stream",
          "text": [
            "Size of training data : 1723\n",
            "Size of test data : 8277\n"
          ],
          "name": "stdout"
        }
      ]
    },
    {
      "cell_type": "code",
      "metadata": {
        "id": "KXXt2pSzwdxG",
        "colab": {
          "base_uri": "https://localhost:8080/",
          "height": 302
        },
        "outputId": "63e09c1f-6fc6-452a-aa25-4ad19bfa824e"
      },
      "source": [
        "%%time\n",
        "et_500 = ExtraTreesRegressor(n_estimators=50, n_jobs=-1, random_state=300)\n",
        "et_500.fit(X_train,y_train)\n",
        "predicted = et_500.predict(X_test)\n",
        "print(r2(y_test,predicted))\n",
        "print(mape(y_test,predicted))\n",
        "plot_feature_importances(et_500)"
      ],
      "execution_count": null,
      "outputs": [
        {
          "output_type": "stream",
          "text": [
            "0.96\n",
            "1.5484\n",
            "CPU times: user 807 ms, sys: 20.4 ms, total: 828 ms\n",
            "Wall time: 751 ms\n"
          ],
          "name": "stdout"
        },
        {
          "output_type": "display_data",
          "data": {
            "image/png": "[encoded data removed]",
            "text/plain": [
              "<Figure size 1728x288 with 1 Axes>"
            ]
          },
          "metadata": {
            "tags": [],
            "needs_background": "light"
          }
        }
      ]
    },
    {
      "cell_type": "markdown",
      "metadata": {
        "id": "ZgR0_R9Sv01o"
      },
      "source": [
        "# Lin Reg"
      ]
    },
    {
      "cell_type": "code",
      "metadata": {
        "id": "uIduYLb2RYAA",
        "colab": {
          "base_uri": "https://localhost:8080/"
        },
        "outputId": "7b33bdb4-945e-4ef5-e57a-2571e5a70250"
      },
      "source": [
        "%%time\n",
        "lin_reg = LinearRegression()\n",
        "lin_reg.fit(X_train,y_train)\n",
        "predicted = lin_reg.predict(X_test)\n",
        "print(r2(y_test,predicted))\n",
        "print(mape(y_test,predicted))"
      ],
      "execution_count": null,
      "outputs": [
        {
          "output_type": "stream",
          "text": [
            "0.8768\n",
            "8.2465\n",
            "CPU times: user 8.27 ms, sys: 3.09 ms, total: 11.4 ms\n",
            "Wall time: 7.05 ms\n"
          ],
          "name": "stdout"
        }
      ]
    },
    {
      "cell_type": "code",
      "metadata": {
        "colab": {
          "base_uri": "https://localhost:8080/",
          "height": 361
        },
        "id": "08cNZALP-0sw",
        "outputId": "2ff55d81-15fd-4efb-be20-c14d6c8a6b17"
      },
      "source": [
        "plt.rcParams.update({'font.size': 15})\n",
        "plt.figure(figsize=(10,5))\n",
        "plt.scatter(y_test,predicted)\n",
        "plt.xlabel('Temp (GAMMA)')\n",
        "plt.ylabel('Temp (Predicted)')\n",
        "plt.plot()"
      ],
      "execution_count": null,
      "outputs": [
        {
          "output_type": "execute_result",
          "data": {
            "text/plain": [
              "[]"
            ]
          },
          "metadata": {
            "tags": []
          },
          "execution_count": 53
        },
        {
          "output_type": "display_data",
          "data": {
            "image/png": "[encoded data removed]",
            "text/plain": [
              "<Figure size 720x360 with 1 Axes>"
            ]
          },
          "metadata": {
            "tags": [],
            "needs_background": "light"
          }
        }
      ]
    },
    {
      "cell_type": "markdown",
      "metadata": {
        "id": "TjDMjkSkv2_P"
      },
      "source": [
        "# Lasso Reg"
      ]
    },
    {
      "cell_type": "code",
      "metadata": {
        "colab": {
          "base_uri": "https://localhost:8080/"
        },
        "id": "CQ6r6Ml6vh9u",
        "outputId": "71b93098-88c1-4ffc-dbbd-36de26d90895"
      },
      "source": [
        "%%time\n",
        "clf = linear_model.Lasso(alpha=0.1,tol=1e-1,random_state=300)\n",
        "clf.fit(X_train,y_train)\n",
        "predicted = clf.predict(X_test)\n",
        "print(r2(y_test,predicted))\n",
        "print(mape(y_test,predicted))"
      ],
      "execution_count": null,
      "outputs": [
        {
          "output_type": "stream",
          "text": [
            "0.6902\n",
            "15.4505\n",
            "CPU times: user 6.81 ms, sys: 3.11 ms, total: 9.92 ms\n",
            "Wall time: 8.51 ms\n"
          ],
          "name": "stdout"
        }
      ]
    },
    {
      "cell_type": "code",
      "metadata": {
        "colab": {
          "base_uri": "https://localhost:8080/",
          "height": 361
        },
        "id": "lZrHTc9l_xGN",
        "outputId": "674650ad-181d-4238-99aa-d418080b69b6"
      },
      "source": [
        "plt.rcParams.update({'font.size': 15})\n",
        "plt.figure(figsize=(10,5))\n",
        "plt.scatter(y_test,predicted)\n",
        "plt.xlabel('Temp (GAMMA)')\n",
        "plt.ylabel('Temp (Predicted)')\n",
        "plt.plot()"
      ],
      "execution_count": null,
      "outputs": [
        {
          "output_type": "execute_result",
          "data": {
            "text/plain": [
              "[]"
            ]
          },
          "metadata": {
            "tags": []
          },
          "execution_count": 55
        },
        {
          "output_type": "display_data",
          "data": {
            "image/png": "[encoded data removed]",
            "text/plain": [
              "<Figure size 720x360 with 1 Axes>"
            ]
          },
          "metadata": {
            "tags": [],
            "needs_background": "light"
          }
        }
      ]
    },
    {
      "cell_type": "markdown",
      "metadata": {
        "id": "7QeFjloqwrGQ"
      },
      "source": [
        "# Ridge Reg"
      ]
    },
    {
      "cell_type": "code",
      "metadata": {
        "colab": {
          "base_uri": "https://localhost:8080/"
        },
        "id": "hDyuVDGSwKQS",
        "outputId": "75525844-ec3f-4711-9065-476512270803"
      },
      "source": [
        "%%time\n",
        "ridge = Ridge(alpha=0.1,random_state=300)\n",
        "ridge.fit(X_train,y_train)\n",
        "predicted = ridge.predict(X_test)\n",
        "print(r2(y_test,predicted))\n",
        "print(mape(y_test,predicted))"
      ],
      "execution_count": null,
      "outputs": [
        {
          "output_type": "stream",
          "text": [
            "0.8782\n",
            "8.1704\n",
            "CPU times: user 7.56 ms, sys: 5.21 ms, total: 12.8 ms\n",
            "Wall time: 10.3 ms\n"
          ],
          "name": "stdout"
        }
      ]
    },
    {
      "cell_type": "code",
      "metadata": {
        "colab": {
          "base_uri": "https://localhost:8080/",
          "height": 361
        },
        "id": "tdn31FGZ_y7Z",
        "outputId": "db5348ee-f31e-4dd6-8011-a671db004558"
      },
      "source": [
        "plt.rcParams.update({'font.size': 15})\n",
        "plt.figure(figsize=(10,5))\n",
        "plt.scatter(y_test,predicted)\n",
        "plt.xlabel('Temp (GAMMA)')\n",
        "plt.ylabel('Temp (Predicted)')\n",
        "plt.plot()"
      ],
      "execution_count": null,
      "outputs": [
        {
          "output_type": "execute_result",
          "data": {
            "text/plain": [
              "[]"
            ]
          },
          "metadata": {
            "tags": []
          },
          "execution_count": 57
        },
        {
          "output_type": "display_data",
          "data": {
            "image/png": "[encoded data removed]",
            "text/plain": [
              "<Figure size 720x360 with 1 Axes>"
            ]
          },
          "metadata": {
            "tags": [],
            "needs_background": "light"
          }
        }
      ]
    },
    {
      "cell_type": "markdown",
      "metadata": {
        "id": "wjouSXEfxaGH"
      },
      "source": [
        "# Decision Tree Regressor"
      ]
    },
    {
      "cell_type": "code",
      "metadata": {
        "colab": {
          "base_uri": "https://localhost:8080/"
        },
        "id": "s6S-3G67w9Dv",
        "outputId": "dd59cc61-b008-4051-e7f7-c235ec1615d9"
      },
      "source": [
        "%%time\n",
        "dtr = DecisionTreeRegressor(random_state=300)\n",
        "dtr.fit(X_train,y_train)\n",
        "predicted = dtr.predict(X_test)\n",
        "print(r2(y_test,predicted))\n",
        "print(mape(y_test,predicted))"
      ],
      "execution_count": null,
      "outputs": [
        {
          "output_type": "stream",
          "text": [
            "0.9098\n",
            "2.6007\n",
            "CPU times: user 40.2 ms, sys: 115 µs, total: 40.3 ms\n",
            "Wall time: 40.5 ms\n"
          ],
          "name": "stdout"
        }
      ]
    },
    {
      "cell_type": "code",
      "metadata": {
        "colab": {
          "base_uri": "https://localhost:8080/",
          "height": 361
        },
        "id": "u8i0qZJ3_zu3",
        "outputId": "a487b778-f29b-410c-ba24-dac03af396c3"
      },
      "source": [
        "plt.rcParams.update({'font.size': 15})\n",
        "plt.figure(figsize=(10,5))\n",
        "plt.scatter(y_test,predicted)\n",
        "plt.xlabel('Temp (GAMMA)')\n",
        "plt.ylabel('Temp (Predicted)')\n",
        "plt.plot()"
      ],
      "execution_count": null,
      "outputs": [
        {
          "output_type": "execute_result",
          "data": {
            "text/plain": [
              "[]"
            ]
          },
          "metadata": {
            "tags": []
          },
          "execution_count": 59
        },
        {
          "output_type": "display_data",
          "data": {
            "image/png": "[encoded data removed]",
            "text/plain": [
              "<Figure size 720x360 with 1 Axes>"
            ]
          },
          "metadata": {
            "tags": [],
            "needs_background": "light"
          }
        }
      ]
    },
    {
      "cell_type": "markdown",
      "metadata": {
        "id": "fLfSsLOyyMWs"
      },
      "source": [
        "# Ada Boost (best estimators and lr)"
      ]
    },
    {
      "cell_type": "code",
      "metadata": {
        "colab": {
          "base_uri": "https://localhost:8080/"
        },
        "id": "uNjfo_-uW7ru",
        "outputId": "5765f1a6-0a5e-4b34-edf7-5d2ce18ee531"
      },
      "source": [
        "AdaBoostRegressor().get_params().keys()"
      ],
      "execution_count": null,
      "outputs": [
        {
          "output_type": "execute_result",
          "data": {
            "text/plain": [
              "dict_keys(['base_estimator', 'learning_rate', 'loss', 'n_estimators', 'random_state'])"
            ]
          },
          "metadata": {
            "tags": []
          },
          "execution_count": 39
        }
      ]
    },
    {
      "cell_type": "code",
      "metadata": {
        "colab": {
          "base_uri": "https://localhost:8080/"
        },
        "id": "qsRUXFeM23i2",
        "outputId": "e52264c7-0e59-40c2-b831-f8aabba2b74d"
      },
      "source": [
        "from sklearn.model_selection import GridSearchCV\n",
        "param_grid = {\n",
        "              \"n_estimators\": [10,20,50,200],\n",
        "              \"learning_rate\": [1e-3, 0.01, 0.1, 0.5, 1, 10]\n",
        "             }         \n",
        "gr = GridSearchCV(AdaBoostRegressor(),param_grid,cv=5,n_jobs=-1)\n",
        "gr.fit(X_train,y_train)"
      ],
      "execution_count": null,
      "outputs": [
        {
          "output_type": "execute_result",
          "data": {
            "text/plain": [
              "GridSearchCV(cv=5, error_score=nan,\n",
              "             estimator=AdaBoostRegressor(base_estimator=None, learning_rate=1.0,\n",
              "                                         loss='linear', n_estimators=50,\n",
              "                                         random_state=None),\n",
              "             iid='deprecated', n_jobs=-1,\n",
              "             param_grid={'learning_rate': [0.001, 0.01, 0.1, 0.5, 1, 10],\n",
              "                         'n_estimators': [10, 20, 50, 200]},\n",
              "             pre_dispatch='2*n_jobs', refit=True, return_train_score=False,\n",
              "             scoring=None, verbose=0)"
            ]
          },
          "metadata": {
            "tags": []
          },
          "execution_count": 36
        }
      ]
    },
    {
      "cell_type": "code",
      "metadata": {
        "colab": {
          "base_uri": "https://localhost:8080/"
        },
        "id": "cCm8vlzs4q8n",
        "outputId": "627b2174-a0bc-43d5-f49b-402eaf6b318f"
      },
      "source": [
        "gr.best_params_"
      ],
      "execution_count": null,
      "outputs": [
        {
          "output_type": "execute_result",
          "data": {
            "text/plain": [
              "{'learning_rate': 0.5, 'n_estimators': 20}"
            ]
          },
          "metadata": {
            "tags": []
          },
          "execution_count": 46
        }
      ]
    },
    {
      "cell_type": "code",
      "metadata": {
        "colab": {
          "base_uri": "https://localhost:8080/"
        },
        "id": "W1U46z4OyO6Q",
        "outputId": "2283033d-5a1d-4b5e-8c36-8aba02d4a1f4"
      },
      "source": [
        "%%time\n",
        "regr_best = AdaBoostRegressor(random_state=300, n_estimators=20, learning_rate=0.5)\n",
        "regr_best.fit(X_train,y_train)\n",
        "predicted = regr_best.predict(X_test)\n",
        "print(r2(y_test,predicted))\n",
        "print(mape(y_test,predicted))"
      ],
      "execution_count": null,
      "outputs": [
        {
          "output_type": "stream",
          "text": [
            "0.917\n",
            "6.1063\n",
            "CPU times: user 181 ms, sys: 0 ns, total: 181 ms\n",
            "Wall time: 181 ms\n"
          ],
          "name": "stdout"
        }
      ]
    },
    {
      "cell_type": "code",
      "metadata": {
        "colab": {
          "base_uri": "https://localhost:8080/",
          "height": 361
        },
        "id": "The1XcCl_0oz",
        "outputId": "9f8f60fc-fa6b-4374-d96f-26c20bf8a0d2"
      },
      "source": [
        "plt.rcParams.update({'font.size': 15})\n",
        "plt.figure(figsize=(10,5))\n",
        "plt.scatter(y_test,predicted)\n",
        "plt.xlabel('Temp (GAMMA)')\n",
        "plt.ylabel('Temp (Predicted)')\n",
        "plt.plot()"
      ],
      "execution_count": null,
      "outputs": [
        {
          "output_type": "execute_result",
          "data": {
            "text/plain": [
              "[]"
            ]
          },
          "metadata": {
            "tags": []
          },
          "execution_count": 61
        },
        {
          "output_type": "display_data",
          "data": {
            "image/png": "[encoded data removed]",
            "text/plain": [
              "<Figure size 720x360 with 1 Axes>"
            ]
          },
          "metadata": {
            "tags": [],
            "needs_background": "light"
          }
        }
      ]
    },
    {
      "cell_type": "markdown",
      "metadata": {
        "id": "vKpU7Y0GXQ2G"
      },
      "source": [
        "# XG Boost"
      ]
    },
    {
      "cell_type": "code",
      "metadata": {
        "id": "-uVDgfNa1wjo",
        "colab": {
          "base_uri": "https://localhost:8080/"
        },
        "outputId": "c887b048-baf7-43c2-fde4-6cbf25c759e3"
      },
      "source": [
        "GradientBoostingRegressor().get_params().keys()"
      ],
      "execution_count": null,
      "outputs": [
        {
          "output_type": "execute_result",
          "data": {
            "text/plain": [
              "dict_keys(['alpha', 'ccp_alpha', 'criterion', 'init', 'learning_rate', 'loss', 'max_depth', 'max_features', 'max_leaf_nodes', 'min_impurity_decrease', 'min_impurity_split', 'min_samples_leaf', 'min_samples_split', 'min_weight_fraction_leaf', 'n_estimators', 'n_iter_no_change', 'presort', 'random_state', 'subsample', 'tol', 'validation_fraction', 'verbose', 'warm_start'])"
            ]
          },
          "metadata": {
            "tags": []
          },
          "execution_count": 42
        }
      ]
    },
    {
      "cell_type": "code",
      "metadata": {
        "colab": {
          "base_uri": "https://localhost:8080/"
        },
        "id": "uSKf74IQXUdl",
        "outputId": "a866a736-5555-499d-da59-dea7e5ea0abd"
      },
      "source": [
        "from sklearn.model_selection import GridSearchCV\n",
        "param_grid_xg = {\n",
        "              \"n_estimators\": [20,100,200],\n",
        "              \"learning_rate\": [0.1, 0.5],\n",
        "              \"max_depth\": [2,4,6],\n",
        "              'subsample': [0.75,0.9,1.0]\n",
        "             }         \n",
        "gr_xg = GridSearchCV(GradientBoostingRegressor(),param_grid_xg,cv=3,n_jobs=4,verbose=5)\n",
        "gr_xg.fit(X_train,y_train)"
      ],
      "execution_count": null,
      "outputs": [
        {
          "output_type": "stream",
          "text": [
            "Fitting 3 folds for each of 54 candidates, totalling 162 fits\n"
          ],
          "name": "stdout"
        },
        {
          "output_type": "stream",
          "text": [
            "[Parallel(n_jobs=4)]: Using backend LokyBackend with 4 concurrent workers.\n",
            "[Parallel(n_jobs=4)]: Done  10 tasks      | elapsed:    4.6s\n",
            "[Parallel(n_jobs=4)]: Done  64 tasks      | elapsed:   32.0s\n",
            "[Parallel(n_jobs=4)]: Done 154 tasks      | elapsed:  1.5min\n",
            "[Parallel(n_jobs=4)]: Done 162 out of 162 | elapsed:  1.7min finished\n"
          ],
          "name": "stderr"
        },
        {
          "output_type": "execute_result",
          "data": {
            "text/plain": [
              "GridSearchCV(cv=3, error_score=nan,\n",
              "             estimator=GradientBoostingRegressor(alpha=0.9, ccp_alpha=0.0,\n",
              "                                                 criterion='friedman_mse',\n",
              "                                                 init=None, learning_rate=0.1,\n",
              "                                                 loss='ls', max_depth=3,\n",
              "                                                 max_features=None,\n",
              "                                                 max_leaf_nodes=None,\n",
              "                                                 min_impurity_decrease=0.0,\n",
              "                                                 min_impurity_split=None,\n",
              "                                                 min_samples_leaf=1,\n",
              "                                                 min_samples_split=2,\n",
              "                                                 min_weight_fraction_leaf=0.0,\n",
              "                                                 n_estimators=100,\n",
              "                                                 n_iter_no_change=None,\n",
              "                                                 presort='deprecated',\n",
              "                                                 random_state=None,\n",
              "                                                 subsample=1.0, tol=0.0001,\n",
              "                                                 validation_fraction=0.1,\n",
              "                                                 verbose=0, warm_start=False),\n",
              "             iid='deprecated', n_jobs=4,\n",
              "             param_grid={'learning_rate': [0.1, 0.5], 'max_depth': [2, 4, 6],\n",
              "                         'n_estimators': [20, 100, 200],\n",
              "                         'subsample': [0.75, 0.9, 1.0]},\n",
              "             pre_dispatch='2*n_jobs', refit=True, return_train_score=False,\n",
              "             scoring=None, verbose=5)"
            ]
          },
          "metadata": {
            "tags": []
          },
          "execution_count": 55
        }
      ]
    },
    {
      "cell_type": "code",
      "metadata": {
        "colab": {
          "base_uri": "https://localhost:8080/"
        },
        "id": "vBIAWxokZC2s",
        "outputId": "77b80a52-c6ee-41ac-b437-f18940fa5a50"
      },
      "source": [
        "gr_xg.best_params_"
      ],
      "execution_count": null,
      "outputs": [
        {
          "output_type": "execute_result",
          "data": {
            "text/plain": [
              "{'learning_rate': 0.1, 'max_depth': 4, 'n_estimators': 100}"
            ]
          },
          "metadata": {
            "tags": []
          },
          "execution_count": 53
        }
      ]
    },
    {
      "cell_type": "code",
      "metadata": {
        "colab": {
          "base_uri": "https://localhost:8080/"
        },
        "id": "neMHrQ7kZGb9",
        "outputId": "93b6a6c7-7c76-4f8b-c686-85cc5afe94ce"
      },
      "source": [
        "%%time\n",
        "xg_best = GradientBoostingRegressor(random_state=300,\n",
        "                                    n_estimators=100,\n",
        "                                    learning_rate=0.1,\n",
        "                                    max_depth = 4,\n",
        "                                    #subsample = gr_xg.best_params_['subsample'],\n",
        "                                    )\n",
        "xg_best.fit(X_train,y_train)\n",
        "predicted = xg_best.predict(X_test)\n",
        "print(r2(y_test,predicted))\n",
        "print(mape(y_test,predicted))"
      ],
      "execution_count": null,
      "outputs": [
        {
          "output_type": "stream",
          "text": [
            "0.9425\n",
            "2.0514\n",
            "CPU times: user 1.11 s, sys: 385 µs, total: 1.11 s\n",
            "Wall time: 1.11 s\n"
          ],
          "name": "stdout"
        }
      ]
    },
    {
      "cell_type": "code",
      "metadata": {
        "colab": {
          "base_uri": "https://localhost:8080/",
          "height": 361
        },
        "id": "OvTA728v_14T",
        "outputId": "a484753b-e6e7-4250-c046-2509f3eb3ba0"
      },
      "source": [
        "plt.rcParams.update({'font.size': 15})\n",
        "plt.figure(figsize=(10,5))\n",
        "plt.scatter(y_test,predicted)\n",
        "plt.xlabel('Temp (GAMMA)')\n",
        "plt.ylabel('Temp (Predicted)')\n",
        "plt.plot()"
      ],
      "execution_count": null,
      "outputs": [
        {
          "output_type": "execute_result",
          "data": {
            "text/plain": [
              "[]"
            ]
          },
          "metadata": {
            "tags": []
          },
          "execution_count": 63
        },
        {
          "output_type": "display_data",
          "data": {
            "image/png": "[encoded data removed]",
            "text/plain": [
              "<Figure size 720x360 with 1 Axes>"
            ]
          },
          "metadata": {
            "tags": [],
            "needs_background": "light"
          }
        }
      ]
    },
    {
      "cell_type": "markdown",
      "metadata": {
        "id": "ijwl_IJyZtYk"
      },
      "source": [
        "# Random Forest\n"
      ]
    },
    {
      "cell_type": "code",
      "metadata": {
        "colab": {
          "base_uri": "https://localhost:8080/"
        },
        "id": "_sr7ceqrZukP",
        "outputId": "15ce8920-a360-43f4-b858-7efc65805deb"
      },
      "source": [
        "RandomForestRegressor().get_params().keys()"
      ],
      "execution_count": null,
      "outputs": [
        {
          "output_type": "execute_result",
          "data": {
            "text/plain": [
              "dict_keys(['bootstrap', 'ccp_alpha', 'criterion', 'max_depth', 'max_features', 'max_leaf_nodes', 'max_samples', 'min_impurity_decrease', 'min_impurity_split', 'min_samples_leaf', 'min_samples_split', 'min_weight_fraction_leaf', 'n_estimators', 'n_jobs', 'oob_score', 'random_state', 'verbose', 'warm_start'])"
            ]
          },
          "metadata": {
            "tags": []
          },
          "execution_count": 21
        }
      ]
    },
    {
      "cell_type": "code",
      "metadata": {
        "colab": {
          "base_uri": "https://localhost:8080/"
        },
        "id": "IwDr4qhLZzzj",
        "outputId": "5d3da6c9-8ebf-4685-d6c5-da26d09bc603"
      },
      "source": [
        "from sklearn.model_selection import GridSearchCV\n",
        "param_grid_rf = {\n",
        "              \"n_estimators\": [10,50,200],\n",
        "              \"learning_rate\": [0.1,0.5,1],\n",
        "              \"max_depth\": [2,4,6],\n",
        "              #'max_samples': [0.5,0.75, 1.0],\n",
        "              'max_features':['auto', 'sqrt', 'log2']             \n",
        "             }         \n",
        "gr_rf = GridSearchCV(GradientBoostingRegressor(),param_grid_rf,cv=5,n_jobs=-1,verbose=5)\n",
        "gr_rf.fit(X_train,y_train)"
      ],
      "execution_count": null,
      "outputs": [
        {
          "output_type": "stream",
          "text": [
            "Fitting 5 folds for each of 81 candidates, totalling 405 fits\n"
          ],
          "name": "stdout"
        },
        {
          "output_type": "stream",
          "text": [
            "[Parallel(n_jobs=-1)]: Using backend LokyBackend with 2 concurrent workers.\n",
            "[Parallel(n_jobs=-1)]: Done  14 tasks      | elapsed:    5.0s\n",
            "[Parallel(n_jobs=-1)]: Done  68 tasks      | elapsed:   15.1s\n",
            "[Parallel(n_jobs=-1)]: Done 158 tasks      | elapsed:   38.6s\n",
            "[Parallel(n_jobs=-1)]: Done 284 tasks      | elapsed:  1.2min\n",
            "[Parallel(n_jobs=-1)]: Done 405 out of 405 | elapsed:  1.6min finished\n"
          ],
          "name": "stderr"
        },
        {
          "output_type": "execute_result",
          "data": {
            "text/plain": [
              "GridSearchCV(cv=5, error_score=nan,\n",
              "             estimator=GradientBoostingRegressor(alpha=0.9, ccp_alpha=0.0,\n",
              "                                                 criterion='friedman_mse',\n",
              "                                                 init=None, learning_rate=0.1,\n",
              "                                                 loss='ls', max_depth=3,\n",
              "                                                 max_features=None,\n",
              "                                                 max_leaf_nodes=None,\n",
              "                                                 min_impurity_decrease=0.0,\n",
              "                                                 min_impurity_split=None,\n",
              "                                                 min_samples_leaf=1,\n",
              "                                                 min_samples_split=2,\n",
              "                                                 min_weight_fraction_leaf=0.0,\n",
              "                                                 n_estimators=100,\n",
              "                                                 n_iter_n...\n",
              "                                                 presort='deprecated',\n",
              "                                                 random_state=None,\n",
              "                                                 subsample=1.0, tol=0.0001,\n",
              "                                                 validation_fraction=0.1,\n",
              "                                                 verbose=0, warm_start=False),\n",
              "             iid='deprecated', n_jobs=-1,\n",
              "             param_grid={'learning_rate': [0.1, 0.5, 1], 'max_depth': [2, 4, 6],\n",
              "                         'max_features': ['auto', 'sqrt', 'log2'],\n",
              "                         'n_estimators': [10, 50, 200]},\n",
              "             pre_dispatch='2*n_jobs', refit=True, return_train_score=False,\n",
              "             scoring=None, verbose=5)"
            ]
          },
          "metadata": {
            "tags": []
          },
          "execution_count": 22
        }
      ]
    },
    {
      "cell_type": "code",
      "metadata": {
        "colab": {
          "base_uri": "https://localhost:8080/"
        },
        "id": "2ut7_U-iaOuQ",
        "outputId": "7dc1bde1-e52f-4783-e820-4843e3838c9b"
      },
      "source": [
        "gr_rf.best_params_"
      ],
      "execution_count": null,
      "outputs": [
        {
          "output_type": "execute_result",
          "data": {
            "text/plain": [
              "{'learning_rate': 0.1,\n",
              " 'max_depth': 4,\n",
              " 'max_features': 'sqrt',\n",
              " 'n_estimators': 50}"
            ]
          },
          "metadata": {
            "tags": []
          },
          "execution_count": 23
        }
      ]
    },
    {
      "cell_type": "code",
      "metadata": {
        "colab": {
          "base_uri": "https://localhost:8080/"
        },
        "id": "04dlhjX1aXX7",
        "outputId": "b2f49d20-2d42-409a-c4ca-c797701510ce"
      },
      "source": [
        "%%time\n",
        "rf_best = GradientBoostingRegressor(random_state=300,\n",
        "                                    n_estimators=gr_rf.best_params_['n_estimators'],\n",
        "                                    learning_rate=gr_rf.best_params_['learning_rate'],\n",
        "                                    max_depth = gr_rf.best_params_['max_depth'],\n",
        "                                    #max_samples = gr_rf.best_params_['subsample'],\n",
        "                                    max_features = gr_rf.best_params_['max_features']\n",
        "                                    )\n",
        "rf_best.fit(X_train,y_train)\n",
        "predicted = rf_best.predict(X_test)\n",
        "print(r2(y_test,predicted))\n",
        "print(mape(y_test,predicted))"
      ],
      "execution_count": null,
      "outputs": [
        {
          "output_type": "stream",
          "text": [
            "0.9563\n",
            "2.673\n",
            "CPU times: user 125 ms, sys: 1.11 ms, total: 126 ms\n",
            "Wall time: 128 ms\n"
          ],
          "name": "stdout"
        }
      ]
    },
    {
      "cell_type": "code",
      "metadata": {
        "colab": {
          "base_uri": "https://localhost:8080/",
          "height": 361
        },
        "id": "a9n1LdYF_3Nb",
        "outputId": "5b42c0b9-baa0-4f7d-babb-bc337787ee46"
      },
      "source": [
        "plt.rcParams.update({'font.size': 15})\n",
        "plt.figure(figsize=(10,5))\n",
        "plt.scatter(y_test,predicted)\n",
        "plt.xlabel('Temp (GAMMA)')\n",
        "plt.ylabel('Temp (Predicted)')\n",
        "plt.plot()"
      ],
      "execution_count": null,
      "outputs": [
        {
          "output_type": "execute_result",
          "data": {
            "text/plain": [
              "[]"
            ]
          },
          "metadata": {
            "tags": []
          },
          "execution_count": 65
        },
        {
          "output_type": "display_data",
          "data": {
            "image/png": "[encoded data removed]",
            "text/plain": [
              "<Figure size 720x360 with 1 Axes>"
            ]
          },
          "metadata": {
            "tags": [],
            "needs_background": "light"
          }
        }
      ]
    },
    {
      "cell_type": "markdown",
      "metadata": {
        "id": "B65Vccz5b0o3"
      },
      "source": [
        "# Extra Trees"
      ]
    },
    {
      "cell_type": "code",
      "metadata": {
        "colab": {
          "base_uri": "https://localhost:8080/"
        },
        "id": "1XxMHTCdb6J9",
        "outputId": "ed6d73f8-8896-4d78-d960-03d123ac5827"
      },
      "source": [
        "ExtraTreesRegressor().get_params().keys()"
      ],
      "execution_count": null,
      "outputs": [
        {
          "output_type": "execute_result",
          "data": {
            "text/plain": [
              "dict_keys(['bootstrap', 'ccp_alpha', 'criterion', 'max_depth', 'max_features', 'max_leaf_nodes', 'max_samples', 'min_impurity_decrease', 'min_impurity_split', 'min_samples_leaf', 'min_samples_split', 'min_weight_fraction_leaf', 'n_estimators', 'n_jobs', 'oob_score', 'random_state', 'verbose', 'warm_start'])"
            ]
          },
          "metadata": {
            "tags": []
          },
          "execution_count": 29
        }
      ]
    },
    {
      "cell_type": "code",
      "metadata": {
        "colab": {
          "base_uri": "https://localhost:8080/"
        },
        "id": "1XhCLqyGb6J-",
        "outputId": "dbe503d7-3a6e-4fb8-ba67-24f804a4b26f"
      },
      "source": [
        "from sklearn.model_selection import GridSearchCV\n",
        "param_grid_ERT = {\n",
        "              \"n_estimators\": [20,50,200],\n",
        "              #\"learning_rate\": [ 0.1,0.5, 2],\n",
        "              \"max_depth\": [4, 6 ,8, 10],\n",
        "              #'max_samples': [0.5,0.75, 1.0],\n",
        "              'max_features':['auto', 'sqrt', 'log2']\n",
        "              \n",
        "             }         \n",
        "gr_ert = GridSearchCV(ExtraTreesRegressor(),param_grid_ERT,cv=5,n_jobs=-1,verbose=5)\n",
        "gr_ert.fit(X_train,y_train)"
      ],
      "execution_count": null,
      "outputs": [
        {
          "output_type": "stream",
          "text": [
            "Fitting 5 folds for each of 36 candidates, totalling 180 fits\n"
          ],
          "name": "stdout"
        },
        {
          "output_type": "stream",
          "text": [
            "[Parallel(n_jobs=-1)]: Using backend LokyBackend with 2 concurrent workers.\n",
            "[Parallel(n_jobs=-1)]: Done  14 tasks      | elapsed:    2.5s\n",
            "[Parallel(n_jobs=-1)]: Done  68 tasks      | elapsed:    7.2s\n",
            "[Parallel(n_jobs=-1)]: Done 158 tasks      | elapsed:   18.7s\n",
            "[Parallel(n_jobs=-1)]: Done 180 out of 180 | elapsed:   21.3s finished\n"
          ],
          "name": "stderr"
        },
        {
          "output_type": "execute_result",
          "data": {
            "text/plain": [
              "GridSearchCV(cv=5, error_score=nan,\n",
              "             estimator=ExtraTreesRegressor(bootstrap=False, ccp_alpha=0.0,\n",
              "                                           criterion='mse', max_depth=None,\n",
              "                                           max_features='auto',\n",
              "                                           max_leaf_nodes=None,\n",
              "                                           max_samples=None,\n",
              "                                           min_impurity_decrease=0.0,\n",
              "                                           min_impurity_split=None,\n",
              "                                           min_samples_leaf=1,\n",
              "                                           min_samples_split=2,\n",
              "                                           min_weight_fraction_leaf=0.0,\n",
              "                                           n_estimators=100, n_jobs=None,\n",
              "                                           oob_score=False, random_state=None,\n",
              "                                           verbose=0, warm_start=False),\n",
              "             iid='deprecated', n_jobs=-1,\n",
              "             param_grid={'max_depth': [4, 6, 8, 10],\n",
              "                         'max_features': ['auto', 'sqrt', 'log2'],\n",
              "                         'n_estimators': [20, 50, 200]},\n",
              "             pre_dispatch='2*n_jobs', refit=True, return_train_score=False,\n",
              "             scoring=None, verbose=5)"
            ]
          },
          "metadata": {
            "tags": []
          },
          "execution_count": 30
        }
      ]
    },
    {
      "cell_type": "code",
      "metadata": {
        "colab": {
          "base_uri": "https://localhost:8080/"
        },
        "id": "raTiQ-38b6J-",
        "outputId": "14611924-bafd-4faf-b6e0-681b6182cf12"
      },
      "source": [
        "gr_ert.best_params_"
      ],
      "execution_count": null,
      "outputs": [
        {
          "output_type": "execute_result",
          "data": {
            "text/plain": [
              "{'max_depth': 10, 'max_features': 'auto', 'n_estimators': 200}"
            ]
          },
          "metadata": {
            "tags": []
          },
          "execution_count": 31
        }
      ]
    },
    {
      "cell_type": "code",
      "metadata": {
        "colab": {
          "base_uri": "https://localhost:8080/"
        },
        "id": "bsg2uk21b6J-",
        "outputId": "0d46475a-25c6-490d-e2c9-88392bc35004"
      },
      "source": [
        "%%time\n",
        "ERT_best = ExtraTreesRegressor(random_state=300,\n",
        "                                    n_estimators=gr_ert.best_params_['n_estimators'],\n",
        "                                    #learning_rate=gr_ert.best_params_['learning_rate'],\n",
        "                                    max_depth = gr_ert.best_params_['max_depth'],\n",
        "                                    #max_samples = gr_ert.best_params_['subsample'],\n",
        "                                    max_features = gr_ert.best_params_['max_features']\n",
        "                                    )\n",
        "ERT_best.fit(X_train,y_train)\n",
        "predicted = ERT_best.predict(X_test)\n",
        "print(r2(y_test,predicted))\n",
        "print(mape(y_test,predicted))"
      ],
      "execution_count": null,
      "outputs": [
        {
          "output_type": "stream",
          "text": [
            "0.9605\n",
            "1.8668\n",
            "CPU times: user 979 ms, sys: 13.5 ms, total: 993 ms\n",
            "Wall time: 993 ms\n"
          ],
          "name": "stdout"
        }
      ]
    },
    {
      "cell_type": "code",
      "metadata": {
        "colab": {
          "base_uri": "https://localhost:8080/",
          "height": 361
        },
        "id": "e3zJy1Ge_4aK",
        "outputId": "db9f46b4-ea76-4ab6-fb22-6ff3b0dfe443"
      },
      "source": [
        "plt.rcParams.update({'font.size': 15})\n",
        "plt.figure(figsize=(10,5))\n",
        "plt.scatter(y_test,predicted)\n",
        "plt.xlabel('Temp (GAMMA)')\n",
        "plt.ylabel('Temp (Predicted)')\n",
        "plt.plot()"
      ],
      "execution_count": null,
      "outputs": [
        {
          "output_type": "execute_result",
          "data": {
            "text/plain": [
              "[]"
            ]
          },
          "metadata": {
            "tags": []
          },
          "execution_count": 67
        },
        {
          "output_type": "display_data",
          "data": {
            "image/png": "[encoded data removed]",
            "text/plain": [
              "<Figure size 720x360 with 1 Axes>"
            ]
          },
          "metadata": {
            "tags": [],
            "needs_background": "light"
          }
        }
      ]
    },
    {
      "cell_type": "markdown",
      "metadata": {
        "id": "YVTijITleM6p"
      },
      "source": [
        "# Neural Network"
      ]
    },
    {
      "cell_type": "code",
      "metadata": {
        "colab": {
          "base_uri": "https://localhost:8080/"
        },
        "id": "v2a00TPgZm-w",
        "outputId": "37a16ec1-165c-4d03-f057-3c3404f27af5"
      },
      "source": [
        "df.shape"
      ],
      "execution_count": null,
      "outputs": [
        {
          "output_type": "execute_result",
          "data": {
            "text/plain": [
              "(1716310, 45)"
            ]
          },
          "metadata": {
            "tags": []
          },
          "execution_count": 154
        }
      ]
    },
    {
      "cell_type": "code",
      "metadata": {
        "colab": {
          "base_uri": "https://localhost:8080/"
        },
        "id": "307xJQDNZiwi",
        "outputId": "5e80867d-7916-4907-9cbc-06dc88c647e1"
      },
      "source": [
        "df_big = df.copy()\n",
        "df_big['time_elapsed'] = df_big['timestep'] - df_big['time_creation']\n",
        "df2 = df_big.sample(50000)\n",
        "#df2 = df_big.copy()\n",
        "df_train = df2[df2['timestep'] < 200.0]\n",
        "df_test = df2[(df2['timestep'] >= 200.0) & (df2['timestep'] < 500.0)]\n",
        "print('Size of training data :', df_train.shape[0])\n",
        "print('Size of test data :', df_test.shape[0])\n",
        "X_train = df_train.loc[:,featureColumns]\n",
        "y_train = df_train['T_self']\n",
        "\n",
        "X_test = df_test.loc[:,featureColumns]\n",
        "y_test = df_test['T_self']\n",
        "\n",
        "X_train,y_train = shuffle(X_train,y_train,random_state=300)\n",
        "X_test,y_test = shuffle(X_test,y_test,random_state=300)"
      ],
      "execution_count": null,
      "outputs": [
        {
          "output_type": "stream",
          "text": [
            "Size of training data : 8354\n",
            "Size of test data : 41646\n"
          ],
          "name": "stdout"
        }
      ]
    },
    {
      "cell_type": "code",
      "metadata": {
        "colab": {
          "base_uri": "https://localhost:8080/",
          "height": 215
        },
        "id": "e6lQZp2oNQW1",
        "outputId": "d9ea8337-606f-493c-c947-4bfa01dc76cf"
      },
      "source": [
        "df2 = df2.fillna(-99.00)\n",
        "df2.isnull().values.any()\n",
        "import pandas as pd\n",
        "from sklearn import preprocessing\n",
        "\n",
        "x = df2.values #returns a numpy array\n",
        "min_max_scaler = preprocessing.MinMaxScaler()\n",
        "x_scaled = min_max_scaler.fit_transform(x)\n",
        "df2 = pd.DataFrame(x_scaled)\n",
        "df2.head()"
      ],
      "execution_count": null,
      "outputs": [
        {
          "output_type": "execute_result",
          "data": {
            "text/html": [
              "<div>\n",
              "<style scoped>\n",
              "    .dataframe tbody tr th:only-of-type {\n",
              "        vertical-align: middle;\n",
              "    }\n",
              "\n",
              "    .dataframe tbody tr th {\n",
              "        vertical-align: top;\n",
              "    }\n",
              "\n",
              "    .dataframe thead th {\n",
              "        text-align: right;\n",
              "    }\n",
              "</style>\n",
              "<table border=\"1\" class=\"dataframe\">\n",
              "  <thead>\n",
              "    <tr style=\"text-align: right;\">\n",
              "      <th></th>\n",
              "      <th>0</th>\n",
              "      <th>1</th>\n",
              "      <th>2</th>\n",
              "      <th>3</th>\n",
              "      <th>4</th>\n",
              "      <th>5</th>\n",
              "      <th>6</th>\n",
              "      <th>7</th>\n",
              "      <th>8</th>\n",
              "      <th>9</th>\n",
              "      <th>10</th>\n",
              "      <th>11</th>\n",
              "      <th>12</th>\n",
              "      <th>13</th>\n",
              "      <th>14</th>\n",
              "      <th>15</th>\n",
              "      <th>16</th>\n",
              "      <th>17</th>\n",
              "      <th>18</th>\n",
              "      <th>19</th>\n",
              "      <th>20</th>\n",
              "      <th>21</th>\n",
              "      <th>22</th>\n",
              "      <th>23</th>\n",
              "      <th>24</th>\n",
              "      <th>25</th>\n",
              "      <th>26</th>\n",
              "      <th>27</th>\n",
              "      <th>28</th>\n",
              "      <th>29</th>\n",
              "      <th>30</th>\n",
              "      <th>31</th>\n",
              "      <th>32</th>\n",
              "      <th>33</th>\n",
              "      <th>34</th>\n",
              "      <th>35</th>\n",
              "      <th>36</th>\n",
              "      <th>37</th>\n",
              "      <th>38</th>\n",
              "      <th>39</th>\n",
              "      <th>40</th>\n",
              "      <th>41</th>\n",
              "      <th>42</th>\n",
              "      <th>43</th>\n",
              "      <th>44</th>\n",
              "      <th>45</th>\n",
              "    </tr>\n",
              "  </thead>\n",
              "  <tbody>\n",
              "    <tr>\n",
              "      <th>0</th>\n",
              "      <td>0.987928</td>\n",
              "      <td>0.700</td>\n",
              "      <td>0.800</td>\n",
              "      <td>1.000000</td>\n",
              "      <td>1.000000</td>\n",
              "      <td>1.000000</td>\n",
              "      <td>0.407641</td>\n",
              "      <td>1.000000</td>\n",
              "      <td>0.923066</td>\n",
              "      <td>0.292359</td>\n",
              "      <td>0.209767</td>\n",
              "      <td>0.000000</td>\n",
              "      <td>0.0</td>\n",
              "      <td>0.215120</td>\n",
              "      <td>0.253082</td>\n",
              "      <td>0.254697</td>\n",
              "      <td>0.249852</td>\n",
              "      <td>0.251127</td>\n",
              "      <td>0.251997</td>\n",
              "      <td>0.234253</td>\n",
              "      <td>0.275929</td>\n",
              "      <td>0.251333</td>\n",
              "      <td>0.446449</td>\n",
              "      <td>0.000000</td>\n",
              "      <td>0.282486</td>\n",
              "      <td>0.253872</td>\n",
              "      <td>0.263813</td>\n",
              "      <td>0.260840</td>\n",
              "      <td>0.412652</td>\n",
              "      <td>0.408162</td>\n",
              "      <td>0.000000</td>\n",
              "      <td>0.000000</td>\n",
              "      <td>0.400272</td>\n",
              "      <td>0.400423</td>\n",
              "      <td>0.000000</td>\n",
              "      <td>0.000000</td>\n",
              "      <td>0.457870</td>\n",
              "      <td>0.416914</td>\n",
              "      <td>0.450068</td>\n",
              "      <td>0.426812</td>\n",
              "      <td>0.000000</td>\n",
              "      <td>0.000000</td>\n",
              "      <td>0.000000</td>\n",
              "      <td>0.000000</td>\n",
              "      <td>0.221590</td>\n",
              "      <td>0.984909</td>\n",
              "    </tr>\n",
              "    <tr>\n",
              "      <th>1</th>\n",
              "      <td>0.973843</td>\n",
              "      <td>0.425</td>\n",
              "      <td>0.250</td>\n",
              "      <td>0.333333</td>\n",
              "      <td>0.333333</td>\n",
              "      <td>0.333333</td>\n",
              "      <td>0.757359</td>\n",
              "      <td>0.923077</td>\n",
              "      <td>0.923066</td>\n",
              "      <td>0.332359</td>\n",
              "      <td>0.678968</td>\n",
              "      <td>0.615378</td>\n",
              "      <td>0.0</td>\n",
              "      <td>0.150288</td>\n",
              "      <td>0.184610</td>\n",
              "      <td>0.184868</td>\n",
              "      <td>0.180658</td>\n",
              "      <td>0.181750</td>\n",
              "      <td>0.180888</td>\n",
              "      <td>0.173456</td>\n",
              "      <td>0.172395</td>\n",
              "      <td>0.172222</td>\n",
              "      <td>0.297051</td>\n",
              "      <td>0.175123</td>\n",
              "      <td>0.178361</td>\n",
              "      <td>0.178774</td>\n",
              "      <td>0.167877</td>\n",
              "      <td>0.179780</td>\n",
              "      <td>0.274864</td>\n",
              "      <td>0.300289</td>\n",
              "      <td>0.167794</td>\n",
              "      <td>0.185710</td>\n",
              "      <td>0.287323</td>\n",
              "      <td>0.291689</td>\n",
              "      <td>0.184116</td>\n",
              "      <td>0.176278</td>\n",
              "      <td>0.290065</td>\n",
              "      <td>0.293918</td>\n",
              "      <td>0.283255</td>\n",
              "      <td>0.304118</td>\n",
              "      <td>0.172974</td>\n",
              "      <td>0.177114</td>\n",
              "      <td>0.170370</td>\n",
              "      <td>0.186592</td>\n",
              "      <td>0.155332</td>\n",
              "      <td>0.972837</td>\n",
              "    </tr>\n",
              "    <tr>\n",
              "      <th>2</th>\n",
              "      <td>0.327968</td>\n",
              "      <td>0.525</td>\n",
              "      <td>0.350</td>\n",
              "      <td>0.000000</td>\n",
              "      <td>0.000000</td>\n",
              "      <td>0.000000</td>\n",
              "      <td>0.555786</td>\n",
              "      <td>0.307692</td>\n",
              "      <td>0.307689</td>\n",
              "      <td>0.030786</td>\n",
              "      <td>0.012208</td>\n",
              "      <td>0.307689</td>\n",
              "      <td>0.0</td>\n",
              "      <td>0.207050</td>\n",
              "      <td>0.184486</td>\n",
              "      <td>0.186081</td>\n",
              "      <td>0.182163</td>\n",
              "      <td>0.182519</td>\n",
              "      <td>0.503489</td>\n",
              "      <td>0.454841</td>\n",
              "      <td>0.507480</td>\n",
              "      <td>0.467940</td>\n",
              "      <td>0.000000</td>\n",
              "      <td>0.758448</td>\n",
              "      <td>0.478517</td>\n",
              "      <td>0.507262</td>\n",
              "      <td>0.441410</td>\n",
              "      <td>0.451470</td>\n",
              "      <td>0.000000</td>\n",
              "      <td>0.000000</td>\n",
              "      <td>0.891990</td>\n",
              "      <td>0.906711</td>\n",
              "      <td>0.000000</td>\n",
              "      <td>0.000000</td>\n",
              "      <td>0.818481</td>\n",
              "      <td>0.860479</td>\n",
              "      <td>0.000000</td>\n",
              "      <td>0.000000</td>\n",
              "      <td>0.000000</td>\n",
              "      <td>0.000000</td>\n",
              "      <td>0.685919</td>\n",
              "      <td>0.797387</td>\n",
              "      <td>0.843471</td>\n",
              "      <td>0.914443</td>\n",
              "      <td>0.453780</td>\n",
              "      <td>0.327968</td>\n",
              "    </tr>\n",
              "    <tr>\n",
              "      <th>3</th>\n",
              "      <td>0.869215</td>\n",
              "      <td>0.475</td>\n",
              "      <td>0.175</td>\n",
              "      <td>0.333333</td>\n",
              "      <td>0.333333</td>\n",
              "      <td>0.333333</td>\n",
              "      <td>0.447359</td>\n",
              "      <td>0.461538</td>\n",
              "      <td>0.923066</td>\n",
              "      <td>0.027641</td>\n",
              "      <td>0.308546</td>\n",
              "      <td>0.615378</td>\n",
              "      <td>0.0</td>\n",
              "      <td>0.202179</td>\n",
              "      <td>0.239408</td>\n",
              "      <td>0.240558</td>\n",
              "      <td>0.235552</td>\n",
              "      <td>0.237235</td>\n",
              "      <td>0.236472</td>\n",
              "      <td>0.223118</td>\n",
              "      <td>0.213505</td>\n",
              "      <td>0.215505</td>\n",
              "      <td>0.373008</td>\n",
              "      <td>0.223910</td>\n",
              "      <td>0.212628</td>\n",
              "      <td>0.216471</td>\n",
              "      <td>0.199759</td>\n",
              "      <td>0.224865</td>\n",
              "      <td>0.324263</td>\n",
              "      <td>0.380898</td>\n",
              "      <td>0.201053</td>\n",
              "      <td>0.240603</td>\n",
              "      <td>0.360939</td>\n",
              "      <td>0.376531</td>\n",
              "      <td>0.242710</td>\n",
              "      <td>0.232443</td>\n",
              "      <td>0.342516</td>\n",
              "      <td>0.372441</td>\n",
              "      <td>0.338753</td>\n",
              "      <td>0.364903</td>\n",
              "      <td>0.210463</td>\n",
              "      <td>0.215754</td>\n",
              "      <td>0.203952</td>\n",
              "      <td>0.227423</td>\n",
              "      <td>0.207907</td>\n",
              "      <td>0.868209</td>\n",
              "    </tr>\n",
              "    <tr>\n",
              "      <th>4</th>\n",
              "      <td>0.973843</td>\n",
              "      <td>0.300</td>\n",
              "      <td>0.475</td>\n",
              "      <td>1.000000</td>\n",
              "      <td>1.000000</td>\n",
              "      <td>1.000000</td>\n",
              "      <td>0.757359</td>\n",
              "      <td>0.923077</td>\n",
              "      <td>0.923066</td>\n",
              "      <td>0.457359</td>\n",
              "      <td>0.456715</td>\n",
              "      <td>0.000000</td>\n",
              "      <td>0.0</td>\n",
              "      <td>0.170996</td>\n",
              "      <td>0.206521</td>\n",
              "      <td>0.207327</td>\n",
              "      <td>0.203187</td>\n",
              "      <td>0.205084</td>\n",
              "      <td>0.204120</td>\n",
              "      <td>0.196456</td>\n",
              "      <td>0.194143</td>\n",
              "      <td>0.200288</td>\n",
              "      <td>0.341095</td>\n",
              "      <td>0.000000</td>\n",
              "      <td>0.200341</td>\n",
              "      <td>0.199982</td>\n",
              "      <td>0.187091</td>\n",
              "      <td>0.204322</td>\n",
              "      <td>0.305923</td>\n",
              "      <td>0.329853</td>\n",
              "      <td>0.000000</td>\n",
              "      <td>0.000000</td>\n",
              "      <td>0.325094</td>\n",
              "      <td>0.333027</td>\n",
              "      <td>0.000000</td>\n",
              "      <td>0.000000</td>\n",
              "      <td>0.321506</td>\n",
              "      <td>0.329668</td>\n",
              "      <td>0.321215</td>\n",
              "      <td>0.345386</td>\n",
              "      <td>0.000000</td>\n",
              "      <td>0.000000</td>\n",
              "      <td>0.000000</td>\n",
              "      <td>0.000000</td>\n",
              "      <td>0.176378</td>\n",
              "      <td>0.970825</td>\n",
              "    </tr>\n",
              "  </tbody>\n",
              "</table>\n",
              "</div>"
            ],
            "text/plain": [
              "         0      1      2         3   ...        42        43        44        45\n",
              "0  0.987928  0.700  0.800  1.000000  ...  0.000000  0.000000  0.221590  0.984909\n",
              "1  0.973843  0.425  0.250  0.333333  ...  0.170370  0.186592  0.155332  0.972837\n",
              "2  0.327968  0.525  0.350  0.000000  ...  0.843471  0.914443  0.453780  0.327968\n",
              "3  0.869215  0.475  0.175  0.333333  ...  0.203952  0.227423  0.207907  0.868209\n",
              "4  0.973843  0.300  0.475  1.000000  ...  0.000000  0.000000  0.176378  0.970825\n",
              "\n",
              "[5 rows x 46 columns]"
            ]
          },
          "metadata": {
            "tags": []
          },
          "execution_count": 156
        }
      ]
    },
    {
      "cell_type": "code",
      "metadata": {
        "colab": {
          "base_uri": "https://localhost:8080/"
        },
        "id": "tx1HJyw-ajz7",
        "outputId": "d19f80f4-2a5e-4e7f-8918-05f2f85d7736"
      },
      "source": [
        "import torch\n",
        "import numpy as np\n",
        "from torchvision import datasets\n",
        "from torchvision import transforms\n",
        "from torch.utils.data.sampler import SubsetRandomSampler\n",
        "from torch.utils.data import Dataset, DataLoader\n",
        "import torch.nn.functional as F\n",
        "class CustomDatasetFromCSV(Dataset):\n",
        "    def __init__(self, data, transform=None):\n",
        "        self.data = data #torch.FloatTensor(data.values.astype('float'))\n",
        "        self.transforms = transforms\n",
        "        self.to_tensor = transforms.ToTensor()\n",
        "\n",
        "    def __getitem__(self, index):\n",
        "        # This method should return only 1 sample and label \n",
        "        # (according to \"index\"), not the whole dataset\n",
        "        # So probably something like this for you:\n",
        "        target = self.data.iloc[index,-1]\n",
        "        data_val = self.data.iloc[index,:-1]\n",
        "        target = torch.tensor(target,dtype=torch.float32)\n",
        "        data_val = torch.tensor(data_val,dtype=torch.float32) \n",
        "        return data_val,target\n",
        "\n",
        "    def __len__(self):\n",
        "        return len(self.data)\n",
        "\n",
        "\n",
        "dataset = CustomDatasetFromCSV(df2)\n",
        "batch_size = 32\n",
        "validation_split = .15\n",
        "test_split = .15\n",
        "shuffle_dataset = True\n",
        "random_seed= 42\n",
        "\n",
        "# Creating data indices for training and validation splits:\n",
        "dataset_size = len(dataset)\n",
        "print(dataset_size)\n",
        "indices = list(range(dataset_size))\n",
        "split = int(np.floor((validation_split+test_split) * dataset_size))\n",
        "if shuffle_dataset :\n",
        "    np.random.seed(random_seed)\n",
        "    np.random.shuffle(indices)\n",
        "train_indices, val_indices, test_indices = indices[split:], indices[:split//2], indices[split//2:split]\n",
        "\n",
        "# Creating PT data samplers and loaders:\n",
        "train_sampler = SubsetRandomSampler(train_indices)\n",
        "valid_sampler = SubsetRandomSampler(val_indices)\n",
        "test_sampler = SubsetRandomSampler(test_indices)\n",
        "\n",
        "train_loader = torch.utils.data.DataLoader(dataset, batch_size=batch_size, \n",
        "                                           sampler=train_sampler,drop_last=True)\n",
        "validation_loader = torch.utils.data.DataLoader(dataset, batch_size=batch_size,\n",
        "                                                sampler=valid_sampler,drop_last=True)\n",
        "test_loader = torch.utils.data.DataLoader(dataset, batch_size=1,\n",
        "                                                sampler=test_sampler,drop_last=True)"
      ],
      "execution_count": null,
      "outputs": [
        {
          "output_type": "stream",
          "text": [
            "50000\n"
          ],
          "name": "stdout"
        }
      ]
    },
    {
      "cell_type": "code",
      "metadata": {
        "id": "LlJL1_erGrHP"
      },
      "source": [
        "class mymodel(torch.nn.Module):\n",
        "    def __init__(self, D_in, H=4, D_out=1):\n",
        "        \"\"\"\n",
        "        In the constructor we construct three nn.Linear instances that we will use\n",
        "        in the forward pass.\n",
        "        \"\"\"\n",
        "        super(mymodel, self).__init__()\n",
        "        self.input_linear = torch.nn.Linear(D_in, H)\n",
        "        self.output_linear = torch.nn.Linear(H, D_out)\n",
        "\n",
        "    def forward(self, x):\n",
        "        # Max pooling over a (2, 2) window\n",
        "        x = F.relu(self.input_linear(x))\n",
        "        x = self.output_linear(x)\n",
        "        #print(x.shape[0])\n",
        "        return x.view(batch_size)\n",
        "        # x = x.view(x.shape[0])\n",
        "        # return x            "
      ],
      "execution_count": null,
      "outputs": []
    },
    {
      "cell_type": "code",
      "metadata": {
        "colab": {
          "base_uri": "https://localhost:8080/"
        },
        "id": "JeGNyScKG0iS",
        "outputId": "bac3f949-fa05-4b72-c982-b62bee4d51ec"
      },
      "source": [
        "print(len(train_loader))\n",
        "print(len(validation_loader))\n",
        "print(len(test_loader))\n",
        "# input,label = iter(train_loader)\n",
        "# print(input[0].shape)\n",
        "# next(iter(train_loader))"
      ],
      "execution_count": null,
      "outputs": [
        {
          "output_type": "stream",
          "text": [
            "1093\n",
            "234\n",
            "7500\n"
          ],
          "name": "stdout"
        }
      ]
    },
    {
      "cell_type": "code",
      "metadata": {
        "colab": {
          "base_uri": "https://localhost:8080/"
        },
        "id": "cfmazxRGG4ZQ",
        "outputId": "1c6af2c8-71ba-4786-821c-b33e80ccdef0"
      },
      "source": [
        "%%time\n",
        "D_in = 45; H = 26; D_out = 1\n",
        "#print(D_in, H, D_out)\n",
        "model = mymodel(D_in, H, D_out)\n",
        "#print(model)\n",
        "criterion = torch.nn.MSELoss() \n",
        "optimizer = torch.optim.SGD(model.parameters(), lr=1e-3)\n",
        "if torch.cuda.is_available():\n",
        "    model.to('cuda')\n",
        "\n",
        "step = 0\n",
        "epochs=50\n",
        "train_loss_list = []\n",
        "valid_loss_list = []\n",
        "train_acc_l = []\n",
        "val_acc_l = []\n",
        "\n",
        "for e in range(epochs):\n",
        "    running_loss_train = 0 \n",
        "    running_loss_valid = 0\n",
        "    validation_r2 = 0\n",
        "    train_r2 = 0\n",
        "\n",
        "\n",
        "    for inputs, labels in train_loader:\n",
        "\n",
        "        # Clear the gradients of all optimized tensors\n",
        "        #print(inputs)\n",
        "        optimizer.zero_grad()\n",
        "        if torch.cuda.is_available():\n",
        "            inputs, labels = inputs.to('cuda'), labels.to('cuda')   \n",
        "        else:\n",
        "            inputs, labels = input, labels        \n",
        "        # Forward pass\n",
        "        model.train()\n",
        "        outputs = model.forward(inputs)\n",
        "        predicted = outputs.data\n",
        "        #print(labels,predicted)\n",
        "        #print(predicted,labels)\n",
        "    \n",
        "        #print(predicted,labels)\n",
        "\n",
        "        training_total += labels.size(0)\n",
        "                \n",
        "        train_loss = criterion(outputs, labels)\n",
        "        train_r2_ =  r2(outputs.detach().cpu().numpy(), labels.detach().cpu().numpy())\n",
        "        #training_correct += r2_loss\n",
        "        \n",
        "        #train_acc = training_correct\n",
        "        # Backward pass\n",
        "        train_loss.backward()\n",
        "        optimizer.step()\n",
        "        \n",
        "        # Calculate and print running training loss\n",
        "        running_loss_train += train_loss.item()  \n",
        "        train_r2 +=  train_r2_\n",
        "\n",
        "        \n",
        "    with torch.no_grad():    \n",
        "            #count=0         \n",
        "            # Iterate over the entire validation dataset\n",
        "            for input_images2, labels2 in validation_loader:\n",
        "                \n",
        "                # Enable CUDA: use GPUs for model computation\n",
        "                #count+=1\n",
        "                #print(count)\n",
        "                if torch.cuda.is_available():\n",
        "                    input_images2, labels2 = input_images2.to('cuda'), labels2.to('cuda')\n",
        "                \n",
        "                # Make predictions \n",
        "                outputs2 = model.forward(input_images2)\n",
        "                predicted2 = outputs2.data\n",
        "                #print(predicted2,labels2)\n",
        "                valid_r2_ =  r2(outputs2.detach().cpu().numpy(), labels2.detach().cpu().numpy())\n",
        "                # Count total and correct predictions\n",
        "                # validation_total += labels2.size(0)\n",
        "                # validation_correct += (predicted2 == labels2).sum().item()   \n",
        "                valid_loss = criterion(outputs2, labels2)\n",
        "                # val_acc = validation_correct / validation_total\n",
        "                running_loss_valid += valid_loss.item()  \n",
        "                validation_r2 +=  valid_r2_\n",
        "    \n",
        "    print(\"Epoch: {}/{}... \".format(e+1, epochs),\n",
        "          \"| Train Loss: {:.4f}\".format(running_loss_train/len(train_loader)),\n",
        "          \"| Val Loss: {:.4f}\".format(running_loss_valid/len(validation_loader)),\n",
        "          \"| Train R2: {:.4f}\".format(train_r2/len(train_loader)),\n",
        "          \"| Val R2: {:.4f}\".format(validation_r2/len(validation_loader)))\n",
        "    train_loss_list.append(running_loss_train/len(train_loader))\n",
        "    valid_loss_list.append(running_loss_valid/len(validation_loader))\n",
        "    train_acc_l.append(train_r2/len(train_loader))\n",
        "    val_acc_l.append(validation_r2/len(validation_loader))\n",
        "          \n",
        "    running_loss_train = 0\n",
        "    running_loss_valid = 0"
      ],
      "execution_count": null,
      "outputs": [
        {
          "output_type": "stream",
          "text": [
            "Epoch: 1/50...  | Train Loss: 0.0917 | Val Loss: 0.0302 | Train R2: -28.3405 | Val R2: -4.1870\n",
            "Epoch: 2/50...  | Train Loss: 0.0268 | Val Loss: 0.0238 | Train R2: -2.6662 | Val R2: -1.5590\n",
            "Epoch: 3/50...  | Train Loss: 0.0212 | Val Loss: 0.0187 | Train R2: -0.9149 | Val R2: -0.4225\n",
            "Epoch: 4/50...  | Train Loss: 0.0165 | Val Loss: 0.0146 | Train R2: -0.0913 | Val R2: 0.1554\n",
            "Epoch: 5/50...  | Train Loss: 0.0128 | Val Loss: 0.0112 | Train R2: 0.3409 | Val R2: 0.4827\n",
            "Epoch: 6/50...  | Train Loss: 0.0098 | Val Loss: 0.0085 | Train R2: 0.5827 | Val R2: 0.6699\n",
            "Epoch: 7/50...  | Train Loss: 0.0075 | Val Loss: 0.0065 | Train R2: 0.7282 | Val R2: 0.7813\n",
            "Epoch: 8/50...  | Train Loss: 0.0057 | Val Loss: 0.0049 | Train R2: 0.8185 | Val R2: 0.8504\n",
            "Epoch: 9/50...  | Train Loss: 0.0043 | Val Loss: 0.0038 | Train R2: 0.8748 | Val R2: 0.8949\n",
            "Epoch: 10/50...  | Train Loss: 0.0033 | Val Loss: 0.0029 | Train R2: 0.9113 | Val R2: 0.9248\n",
            "Epoch: 11/50...  | Train Loss: 0.0026 | Val Loss: 0.0022 | Train R2: 0.9356 | Val R2: 0.9456\n",
            "Epoch: 12/50...  | Train Loss: 0.0020 | Val Loss: 0.0018 | Train R2: 0.9521 | Val R2: 0.9585\n",
            "Epoch: 13/50...  | Train Loss: 0.0016 | Val Loss: 0.0014 | Train R2: 0.9637 | Val R2: 0.9685\n",
            "Epoch: 14/50...  | Train Loss: 0.0013 | Val Loss: 0.0011 | Train R2: 0.9718 | Val R2: 0.9755\n",
            "Epoch: 15/50...  | Train Loss: 0.0010 | Val Loss: 0.0009 | Train R2: 0.9777 | Val R2: 0.9802\n",
            "Epoch: 16/50...  | Train Loss: 0.0009 | Val Loss: 0.0008 | Train R2: 0.9818 | Val R2: 0.9837\n",
            "Epoch: 17/50...  | Train Loss: 0.0007 | Val Loss: 0.0007 | Train R2: 0.9849 | Val R2: 0.9868\n",
            "Epoch: 18/50...  | Train Loss: 0.0006 | Val Loss: 0.0006 | Train R2: 0.9873 | Val R2: 0.9887\n",
            "Epoch: 19/50...  | Train Loss: 0.0005 | Val Loss: 0.0005 | Train R2: 0.9893 | Val R2: 0.9902\n",
            "Epoch: 20/50...  | Train Loss: 0.0005 | Val Loss: 0.0004 | Train R2: 0.9906 | Val R2: 0.9914\n",
            "Epoch: 21/50...  | Train Loss: 0.0004 | Val Loss: 0.0004 | Train R2: 0.9918 | Val R2: 0.9925\n",
            "Epoch: 22/50...  | Train Loss: 0.0004 | Val Loss: 0.0003 | Train R2: 0.9927 | Val R2: 0.9934\n",
            "Epoch: 23/50...  | Train Loss: 0.0003 | Val Loss: 0.0003 | Train R2: 0.9933 | Val R2: 0.9939\n",
            "Epoch: 24/50...  | Train Loss: 0.0003 | Val Loss: 0.0003 | Train R2: 0.9939 | Val R2: 0.9943\n",
            "Epoch: 25/50...  | Train Loss: 0.0003 | Val Loss: 0.0003 | Train R2: 0.9944 | Val R2: 0.9948\n",
            "Epoch: 26/50...  | Train Loss: 0.0003 | Val Loss: 0.0003 | Train R2: 0.9948 | Val R2: 0.9950\n",
            "Epoch: 27/50...  | Train Loss: 0.0003 | Val Loss: 0.0002 | Train R2: 0.9950 | Val R2: 0.9954\n",
            "Epoch: 28/50...  | Train Loss: 0.0002 | Val Loss: 0.0002 | Train R2: 0.9953 | Val R2: 0.9955\n",
            "Epoch: 29/50...  | Train Loss: 0.0002 | Val Loss: 0.0002 | Train R2: 0.9955 | Val R2: 0.9957\n",
            "Epoch: 30/50...  | Train Loss: 0.0002 | Val Loss: 0.0002 | Train R2: 0.9957 | Val R2: 0.9960\n",
            "Epoch: 31/50...  | Train Loss: 0.0002 | Val Loss: 0.0002 | Train R2: 0.9958 | Val R2: 0.9960\n",
            "Epoch: 32/50...  | Train Loss: 0.0002 | Val Loss: 0.0002 | Train R2: 0.9959 | Val R2: 0.9962\n",
            "Epoch: 33/50...  | Train Loss: 0.0002 | Val Loss: 0.0002 | Train R2: 0.9961 | Val R2: 0.9963\n",
            "Epoch: 34/50...  | Train Loss: 0.0002 | Val Loss: 0.0002 | Train R2: 0.9962 | Val R2: 0.9964\n",
            "Epoch: 35/50...  | Train Loss: 0.0002 | Val Loss: 0.0002 | Train R2: 0.9963 | Val R2: 0.9964\n",
            "Epoch: 36/50...  | Train Loss: 0.0002 | Val Loss: 0.0002 | Train R2: 0.9964 | Val R2: 0.9966\n",
            "Epoch: 37/50...  | Train Loss: 0.0002 | Val Loss: 0.0002 | Train R2: 0.9964 | Val R2: 0.9966\n",
            "Epoch: 38/50...  | Train Loss: 0.0002 | Val Loss: 0.0002 | Train R2: 0.9965 | Val R2: 0.9967\n",
            "Epoch: 39/50...  | Train Loss: 0.0002 | Val Loss: 0.0002 | Train R2: 0.9965 | Val R2: 0.9967\n",
            "Epoch: 40/50...  | Train Loss: 0.0002 | Val Loss: 0.0002 | Train R2: 0.9966 | Val R2: 0.9968\n",
            "Epoch: 41/50...  | Train Loss: 0.0002 | Val Loss: 0.0002 | Train R2: 0.9967 | Val R2: 0.9969\n",
            "Epoch: 42/50...  | Train Loss: 0.0002 | Val Loss: 0.0002 | Train R2: 0.9967 | Val R2: 0.9969\n",
            "Epoch: 43/50...  | Train Loss: 0.0002 | Val Loss: 0.0002 | Train R2: 0.9968 | Val R2: 0.9970\n",
            "Epoch: 44/50...  | Train Loss: 0.0002 | Val Loss: 0.0002 | Train R2: 0.9968 | Val R2: 0.9970\n",
            "Epoch: 45/50...  | Train Loss: 0.0002 | Val Loss: 0.0002 | Train R2: 0.9968 | Val R2: 0.9971\n",
            "Epoch: 46/50...  | Train Loss: 0.0002 | Val Loss: 0.0002 | Train R2: 0.9969 | Val R2: 0.9971\n",
            "Epoch: 47/50...  | Train Loss: 0.0002 | Val Loss: 0.0002 | Train R2: 0.9970 | Val R2: 0.9971\n",
            "Epoch: 48/50...  | Train Loss: 0.0002 | Val Loss: 0.0002 | Train R2: 0.9970 | Val R2: 0.9972\n",
            "Epoch: 49/50...  | Train Loss: 0.0002 | Val Loss: 0.0002 | Train R2: 0.9970 | Val R2: 0.9972\n",
            "Epoch: 50/50...  | Train Loss: 0.0002 | Val Loss: 0.0001 | Train R2: 0.9971 | Val R2: 0.9972\n",
            "CPU times: user 9min 14s, sys: 7.84 s, total: 9min 21s\n",
            "Wall time: 9min 23s\n"
          ],
          "name": "stdout"
        }
      ]
    },
    {
      "cell_type": "code",
      "metadata": {
        "colab": {
          "base_uri": "https://localhost:8080/",
          "height": 344
        },
        "id": "P-5vhxpiHUkI",
        "outputId": "2226128a-1e95-4e03-9ee3-972daf6de401"
      },
      "source": [
        "import matplotlib.pyplot as plt\n",
        "plt.rcParams.update({'font.size': 15})\n",
        "plt.figure(figsize=(10,5))\n",
        "# train_loss_list2 = [x/len(train_loader) for x in train_loss_list]\n",
        "# valid_loss_list2 = [x/len(validation_loader) for x in valid_loss_list]\n",
        "plt.plot(train_loss_list,c='g',label=\"Training Loss\",linewidth=2)\n",
        "plt.plot(valid_loss_list,c='r',label=\"Validation Loss\",linewidth=2)\n",
        "plt.xlabel('Epochs')\n",
        "plt.ylabel('Loss')\n",
        "plt.xlim(1,50)\n",
        "plt.legend()\n",
        "plt.show()"
      ],
      "execution_count": null,
      "outputs": [
        {
          "output_type": "display_data",
          "data": {
            "image/png": "[encoded data removed]",
            "text/plain": [
              "<Figure size 720x360 with 1 Axes>"
            ]
          },
          "metadata": {
            "tags": [],
            "needs_background": "light"
          }
        }
      ]
    },
    {
      "cell_type": "code",
      "metadata": {
        "colab": {
          "base_uri": "https://localhost:8080/",
          "height": 344
        },
        "id": "BmjGn96yTYdX",
        "outputId": "972ceb20-e09a-4953-859f-3f28d2727ecc"
      },
      "source": [
        "import matplotlib.pyplot as plt\n",
        "plt.rcParams.update({'font.size': 15})\n",
        "plt.figure(figsize=(10,5))\n",
        "# train_loss_list2 = [x/len(train_loader) for x in train_loss_list]\n",
        "# valid_loss_list2 = [x/len(validation_loader) for x in valid_loss_list]\n",
        "plt.plot(train_acc_l[5:],c='g',label=\"Training R2\",linewidth=2)\n",
        "plt.plot(val_acc_l[5:],c='r',label=\"Validation R2\",linewidth=2)\n",
        "plt.xlabel('Epochs')\n",
        "plt.ylabel('R2')\n",
        "plt.xlim(5,50)\n",
        "plt.legend()\n",
        "plt.show()"
      ],
      "execution_count": null,
      "outputs": [
        {
          "output_type": "display_data",
          "data": {
            "image/png": "[encoded data removed]",
            "text/plain": [
              "<Figure size 720x360 with 1 Axes>"
            ]
          },
          "metadata": {
            "tags": [],
            "needs_background": "light"
          }
        }
      ]
    },
    {
      "cell_type": "code",
      "metadata": {
        "colab": {
          "base_uri": "https://localhost:8080/"
        },
        "id": "0NPbpal_TjQJ",
        "outputId": "ec0b3b05-5348-4bea-d516-09900905cf7f"
      },
      "source": [
        "# %%time\n",
        "# H_list = [10,20,40,80,100]\n",
        "# dict_trainL = {}\n",
        "# dict_valL = {}\n",
        "# dict_trainAcc={}\n",
        "# dict_valAcc={}\n",
        "\n",
        "# for H in H_list:\n",
        "    \n",
        "#       D_in = 45; H = H; D_out = 1\n",
        "#       #print(D_in, H, D_out)\n",
        "#       model = mymodel(D_in, H, D_out)\n",
        "#       #print(model)\n",
        "#       criterion = torch.nn.MSELoss() \n",
        "#       optimizer = torch.optim.SGD(model.parameters(), lr=1e-3)\n",
        "#       if torch.cuda.is_available():\n",
        "#           model.to('cuda')\n",
        "\n",
        "#       step = 0\n",
        "#       epochs=20\n",
        "#       train_loss_list = []\n",
        "#       valid_loss_list = []\n",
        "#       train_acc_l = []\n",
        "#       val_acc_l = []\n",
        "\n",
        "#       for e in range(epochs):\n",
        "#           running_loss_train = 0 \n",
        "#           running_loss_valid = 0\n",
        "#           validation_r2 = 0\n",
        "#           train_r2 = 0\n",
        "\n",
        "\n",
        "#           for inputs, labels in train_loader:\n",
        "\n",
        "#               # Clear the gradients of all optimized tensors\n",
        "#               #print(inputs)\n",
        "#               optimizer.zero_grad()\n",
        "#               if torch.cuda.is_available():\n",
        "#                   inputs, labels = inputs.to('cuda'), labels.to('cuda')   \n",
        "#               else:\n",
        "#                   inputs, labels = input, labels        \n",
        "#               # Forward pass\n",
        "#               model.train()\n",
        "#               outputs = model.forward(inputs)\n",
        "#               predicted = outputs.data\n",
        "#               #print(labels,predicted)\n",
        "#               #print(predicted,labels)\n",
        "          \n",
        "#               #print(predicted,labels)\n",
        "\n",
        "#               training_total += labels.size(0)\n",
        "                      \n",
        "#               train_loss = criterion(outputs, labels)\n",
        "#               train_r2_ =  r2(outputs.detach().cpu().numpy(), labels.detach().cpu().numpy())\n",
        "#               #training_correct += r2_loss\n",
        "              \n",
        "#               #train_acc = training_correct\n",
        "#               # Backward pass\n",
        "#               train_loss.backward()\n",
        "#               optimizer.step()\n",
        "              \n",
        "#               # Calculate and print running training loss\n",
        "#               running_loss_train += train_loss.item()  \n",
        "#               train_r2 +=  train_r2_\n",
        "\n",
        "              \n",
        "#           with torch.no_grad():    \n",
        "#                   #count=0         \n",
        "#                   # Iterate over the entire validation dataset\n",
        "#                   for input_images2, labels2 in validation_loader:\n",
        "                      \n",
        "#                       # Enable CUDA: use GPUs for model computation\n",
        "#                       #count+=1\n",
        "#                       #print(count)\n",
        "#                       if torch.cuda.is_available():\n",
        "#                           input_images2, labels2 = input_images2.to('cuda'), labels2.to('cuda')\n",
        "                      \n",
        "#                       # Make predictions \n",
        "#                       outputs2 = model.forward(input_images2)\n",
        "#                       predicted2 = outputs2.data\n",
        "#                       #print(predicted2,labels2)\n",
        "#                       valid_r2_ =  r2(outputs2.detach().cpu().numpy(), labels2.detach().cpu().numpy())\n",
        "#                       # Count total and correct predictions\n",
        "#                       # validation_total += labels2.size(0)\n",
        "#                       # validation_correct += (predicted2 == labels2).sum().item()   \n",
        "#                       valid_loss = criterion(outputs2, labels2)\n",
        "#                       # val_acc = validation_correct / validation_total\n",
        "#                       running_loss_valid += valid_loss.item()  \n",
        "#                       validation_r2 +=  valid_r2_\n",
        "          \n",
        "#           print(\"Epoch: {}/{}... \".format(e+1, epochs),\n",
        "#                 \"| Train Loss: {:.4f}\".format(running_loss_train/len(train_loader)),\n",
        "#                 \"| Val Loss: {:.4f}\".format(running_loss_valid/len(validation_loader)),\n",
        "#                 \"| Train R2: {:.4f}\".format(train_r2/len(train_loader)),\n",
        "#                 \"| Val R2: {:.4f}\".format(validation_r2/len(validation_loader)))\n",
        "#           train_loss_list.append(running_loss_train/len(train_loader))\n",
        "#           valid_loss_list.append(running_loss_valid/len(validation_loader))\n",
        "#           train_acc_l.append(train_r2/len(train_loader))\n",
        "#           val_acc_l.append(validation_r2/len(validation_loader))\n",
        "                \n",
        "#           running_loss_train = 0\n",
        "#           running_loss_valid = 0\n",
        "#       dict_trainL[H] = train_loss_list\n",
        "#       dict_valL[H] = valid_loss_list\n",
        "#       dict_trainAcc[H] = train_acc\n",
        "#       dict_valAcc[H] = val_acc"
      ],
      "execution_count": null,
      "outputs": [
        {
          "output_type": "stream",
          "text": [
            "Epoch: 1/20...  | Train Loss: 0.2146 | Val Loss: 0.0360 | Train R2: -451.1665 | Val R2: -5.8896\n",
            "Epoch: 2/20...  | Train Loss: 0.0326 | Val Loss: 0.0297 | Train R2: -3.8819 | Val R2: -2.6367\n",
            "Epoch: 3/20...  | Train Loss: 0.0270 | Val Loss: 0.0243 | Train R2: -1.8411 | Val R2: -1.1828\n",
            "Epoch: 4/20...  | Train Loss: 0.0219 | Val Loss: 0.0195 | Train R2: -0.7237 | Val R2: -0.3429\n",
            "Epoch: 5/20...  | Train Loss: 0.0174 | Val Loss: 0.0153 | Train R2: -0.0692 | Val R2: 0.1617\n",
            "Epoch: 6/20...  | Train Loss: 0.0135 | Val Loss: 0.0117 | Train R2: 0.3320 | Val R2: 0.4724\n",
            "Epoch: 7/20...  | Train Loss: 0.0102 | Val Loss: 0.0088 | Train R2: 0.5742 | Val R2: 0.6644\n",
            "Epoch: 8/20...  | Train Loss: 0.0077 | Val Loss: 0.0066 | Train R2: 0.7252 | Val R2: 0.7800\n",
            "Epoch: 9/20...  | Train Loss: 0.0057 | Val Loss: 0.0049 | Train R2: 0.8199 | Val R2: 0.8530\n",
            "Epoch: 10/20...  | Train Loss: 0.0043 | Val Loss: 0.0038 | Train R2: 0.8769 | Val R2: 0.8980\n",
            "Epoch: 11/20...  | Train Loss: 0.0033 | Val Loss: 0.0030 | Train R2: 0.9121 | Val R2: 0.9245\n",
            "Epoch: 12/20...  | Train Loss: 0.0027 | Val Loss: 0.0024 | Train R2: 0.9348 | Val R2: 0.9420\n",
            "Epoch: 13/20...  | Train Loss: 0.0022 | Val Loss: 0.0020 | Train R2: 0.9488 | Val R2: 0.9535\n",
            "Epoch: 14/20...  | Train Loss: 0.0019 | Val Loss: 0.0018 | Train R2: 0.9580 | Val R2: 0.9618\n",
            "Epoch: 15/20...  | Train Loss: 0.0016 | Val Loss: 0.0016 | Train R2: 0.9645 | Val R2: 0.9666\n",
            "Epoch: 16/20...  | Train Loss: 0.0015 | Val Loss: 0.0014 | Train R2: 0.9689 | Val R2: 0.9708\n",
            "Epoch: 17/20...  | Train Loss: 0.0013 | Val Loss: 0.0013 | Train R2: 0.9720 | Val R2: 0.9738\n",
            "Epoch: 18/20...  | Train Loss: 0.0012 | Val Loss: 0.0012 | Train R2: 0.9744 | Val R2: 0.9758\n",
            "Epoch: 19/20...  | Train Loss: 0.0012 | Val Loss: 0.0011 | Train R2: 0.9766 | Val R2: 0.9776\n",
            "Epoch: 20/20...  | Train Loss: 0.0011 | Val Loss: 0.0011 | Train R2: 0.9783 | Val R2: 0.9790\n",
            "Epoch: 1/20...  | Train Loss: 0.0932 | Val Loss: 0.0256 | Train R2: -15.2569 | Val R2: -0.4686\n",
            "Epoch: 2/20...  | Train Loss: 0.0223 | Val Loss: 0.0192 | Train R2: -0.2137 | Val R2: 0.0162\n",
            "Epoch: 3/20...  | Train Loss: 0.0167 | Val Loss: 0.0144 | Train R2: 0.1932 | Val R2: 0.3579\n",
            "Epoch: 4/20...  | Train Loss: 0.0126 | Val Loss: 0.0108 | Train R2: 0.4742 | Val R2: 0.5763\n",
            "Epoch: 5/20...  | Train Loss: 0.0095 | Val Loss: 0.0082 | Train R2: 0.6545 | Val R2: 0.7241\n",
            "Epoch: 6/20...  | Train Loss: 0.0072 | Val Loss: 0.0062 | Train R2: 0.7662 | Val R2: 0.8098\n",
            "Epoch: 7/20...  | Train Loss: 0.0056 | Val Loss: 0.0048 | Train R2: 0.8385 | Val R2: 0.8665\n",
            "Epoch: 8/20...  | Train Loss: 0.0044 | Val Loss: 0.0038 | Train R2: 0.8825 | Val R2: 0.9019\n",
            "Epoch: 9/20...  | Train Loss: 0.0035 | Val Loss: 0.0031 | Train R2: 0.9109 | Val R2: 0.9235\n",
            "Epoch: 10/20...  | Train Loss: 0.0029 | Val Loss: 0.0026 | Train R2: 0.9307 | Val R2: 0.9386\n",
            "Epoch: 11/20...  | Train Loss: 0.0025 | Val Loss: 0.0022 | Train R2: 0.9437 | Val R2: 0.9493\n",
            "Epoch: 12/20...  | Train Loss: 0.0021 | Val Loss: 0.0019 | Train R2: 0.9532 | Val R2: 0.9575\n",
            "Epoch: 13/20...  | Train Loss: 0.0018 | Val Loss: 0.0017 | Train R2: 0.9602 | Val R2: 0.9638\n",
            "Epoch: 14/20...  | Train Loss: 0.0016 | Val Loss: 0.0015 | Train R2: 0.9658 | Val R2: 0.9688\n",
            "Epoch: 15/20...  | Train Loss: 0.0014 | Val Loss: 0.0014 | Train R2: 0.9701 | Val R2: 0.9716\n",
            "Epoch: 16/20...  | Train Loss: 0.0013 | Val Loss: 0.0012 | Train R2: 0.9731 | Val R2: 0.9749\n",
            "Epoch: 17/20...  | Train Loss: 0.0012 | Val Loss: 0.0011 | Train R2: 0.9760 | Val R2: 0.9774\n",
            "Epoch: 18/20...  | Train Loss: 0.0011 | Val Loss: 0.0010 | Train R2: 0.9784 | Val R2: 0.9794\n",
            "Epoch: 19/20...  | Train Loss: 0.0010 | Val Loss: 0.0010 | Train R2: 0.9804 | Val R2: 0.9809\n",
            "Epoch: 20/20...  | Train Loss: 0.0009 | Val Loss: 0.0009 | Train R2: 0.9819 | Val R2: 0.9823\n",
            "Epoch: 1/20...  | Train Loss: 0.0541 | Val Loss: 0.0185 | Train R2: -15.6540 | Val R2: -0.2952\n",
            "Epoch: 2/20...  | Train Loss: 0.0158 | Val Loss: 0.0131 | Train R2: 0.0529 | Val R2: 0.3387\n",
            "Epoch: 3/20...  | Train Loss: 0.0113 | Val Loss: 0.0095 | Train R2: 0.4889 | Val R2: 0.6176\n",
            "Epoch: 4/20...  | Train Loss: 0.0082 | Val Loss: 0.0070 | Train R2: 0.6936 | Val R2: 0.7610\n",
            "Epoch: 5/20...  | Train Loss: 0.0061 | Val Loss: 0.0052 | Train R2: 0.8049 | Val R2: 0.8441\n",
            "Epoch: 6/20...  | Train Loss: 0.0046 | Val Loss: 0.0039 | Train R2: 0.8675 | Val R2: 0.8923\n",
            "Epoch: 7/20...  | Train Loss: 0.0035 | Val Loss: 0.0031 | Train R2: 0.9064 | Val R2: 0.9223\n",
            "Epoch: 8/20...  | Train Loss: 0.0028 | Val Loss: 0.0024 | Train R2: 0.9309 | Val R2: 0.9415\n",
            "Epoch: 9/20...  | Train Loss: 0.0023 | Val Loss: 0.0020 | Train R2: 0.9469 | Val R2: 0.9541\n",
            "Epoch: 10/20...  | Train Loss: 0.0019 | Val Loss: 0.0017 | Train R2: 0.9575 | Val R2: 0.9629\n",
            "Epoch: 11/20...  | Train Loss: 0.0016 | Val Loss: 0.0015 | Train R2: 0.9645 | Val R2: 0.9684\n",
            "Epoch: 12/20...  | Train Loss: 0.0014 | Val Loss: 0.0013 | Train R2: 0.9703 | Val R2: 0.9731\n",
            "Epoch: 13/20...  | Train Loss: 0.0012 | Val Loss: 0.0011 | Train R2: 0.9743 | Val R2: 0.9763\n",
            "Epoch: 14/20...  | Train Loss: 0.0011 | Val Loss: 0.0010 | Train R2: 0.9772 | Val R2: 0.9791\n",
            "Epoch: 15/20...  | Train Loss: 0.0010 | Val Loss: 0.0009 | Train R2: 0.9797 | Val R2: 0.9813\n",
            "Epoch: 16/20...  | Train Loss: 0.0009 | Val Loss: 0.0009 | Train R2: 0.9815 | Val R2: 0.9826\n",
            "Epoch: 17/20...  | Train Loss: 0.0009 | Val Loss: 0.0008 | Train R2: 0.9830 | Val R2: 0.9843\n",
            "Epoch: 18/20...  | Train Loss: 0.0008 | Val Loss: 0.0007 | Train R2: 0.9844 | Val R2: 0.9855\n",
            "Epoch: 19/20...  | Train Loss: 0.0007 | Val Loss: 0.0007 | Train R2: 0.9856 | Val R2: 0.9863\n",
            "Epoch: 20/20...  | Train Loss: 0.0007 | Val Loss: 0.0007 | Train R2: 0.9866 | Val R2: 0.9874\n",
            "Epoch: 1/20...  | Train Loss: 0.0499 | Val Loss: 0.0179 | Train R2: -6.7681 | Val R2: -0.0175\n",
            "Epoch: 2/20...  | Train Loss: 0.0153 | Val Loss: 0.0129 | Train R2: 0.1980 | Val R2: 0.3745\n",
            "Epoch: 3/20...  | Train Loss: 0.0109 | Val Loss: 0.0092 | Train R2: 0.5154 | Val R2: 0.6301\n",
            "Epoch: 4/20...  | Train Loss: 0.0078 | Val Loss: 0.0065 | Train R2: 0.7065 | Val R2: 0.7757\n",
            "Epoch: 5/20...  | Train Loss: 0.0055 | Val Loss: 0.0046 | Train R2: 0.8192 | Val R2: 0.8594\n",
            "Epoch: 6/20...  | Train Loss: 0.0040 | Val Loss: 0.0033 | Train R2: 0.8847 | Val R2: 0.9093\n",
            "Epoch: 7/20...  | Train Loss: 0.0029 | Val Loss: 0.0024 | Train R2: 0.9235 | Val R2: 0.9387\n",
            "Epoch: 8/20...  | Train Loss: 0.0022 | Val Loss: 0.0018 | Train R2: 0.9470 | Val R2: 0.9565\n",
            "Epoch: 9/20...  | Train Loss: 0.0017 | Val Loss: 0.0014 | Train R2: 0.9612 | Val R2: 0.9679\n",
            "Epoch: 10/20...  | Train Loss: 0.0013 | Val Loss: 0.0011 | Train R2: 0.9704 | Val R2: 0.9749\n",
            "Epoch: 11/20...  | Train Loss: 0.0011 | Val Loss: 0.0010 | Train R2: 0.9762 | Val R2: 0.9796\n",
            "Epoch: 12/20...  | Train Loss: 0.0009 | Val Loss: 0.0008 | Train R2: 0.9804 | Val R2: 0.9826\n",
            "Epoch: 13/20...  | Train Loss: 0.0008 | Val Loss: 0.0007 | Train R2: 0.9832 | Val R2: 0.9851\n",
            "Epoch: 14/20...  | Train Loss: 0.0007 | Val Loss: 0.0007 | Train R2: 0.9850 | Val R2: 0.9868\n",
            "Epoch: 15/20...  | Train Loss: 0.0007 | Val Loss: 0.0006 | Train R2: 0.9867 | Val R2: 0.9880\n",
            "Epoch: 16/20...  | Train Loss: 0.0006 | Val Loss: 0.0006 | Train R2: 0.9878 | Val R2: 0.9892\n",
            "Epoch: 17/20...  | Train Loss: 0.0006 | Val Loss: 0.0005 | Train R2: 0.9886 | Val R2: 0.9898\n",
            "Epoch: 18/20...  | Train Loss: 0.0005 | Val Loss: 0.0005 | Train R2: 0.9893 | Val R2: 0.9904\n",
            "Epoch: 19/20...  | Train Loss: 0.0005 | Val Loss: 0.0005 | Train R2: 0.9900 | Val R2: 0.9909\n",
            "Epoch: 20/20...  | Train Loss: 0.0005 | Val Loss: 0.0005 | Train R2: 0.9905 | Val R2: 0.9913\n",
            "Epoch: 1/20...  | Train Loss: 0.0520 | Val Loss: 0.0208 | Train R2: -24.3223 | Val R2: -0.5056\n",
            "Epoch: 2/20...  | Train Loss: 0.0172 | Val Loss: 0.0140 | Train R2: -0.0377 | Val R2: 0.2953\n",
            "Epoch: 3/20...  | Train Loss: 0.0117 | Val Loss: 0.0097 | Train R2: 0.4874 | Val R2: 0.6252\n",
            "Epoch: 4/20...  | Train Loss: 0.0082 | Val Loss: 0.0068 | Train R2: 0.7117 | Val R2: 0.7823\n",
            "Epoch: 5/20...  | Train Loss: 0.0059 | Val Loss: 0.0050 | Train R2: 0.8218 | Val R2: 0.8608\n",
            "Epoch: 6/20...  | Train Loss: 0.0043 | Val Loss: 0.0037 | Train R2: 0.8830 | Val R2: 0.9033\n",
            "Epoch: 7/20...  | Train Loss: 0.0033 | Val Loss: 0.0029 | Train R2: 0.9179 | Val R2: 0.9298\n",
            "Epoch: 8/20...  | Train Loss: 0.0026 | Val Loss: 0.0023 | Train R2: 0.9391 | Val R2: 0.9474\n",
            "Epoch: 9/20...  | Train Loss: 0.0021 | Val Loss: 0.0019 | Train R2: 0.9527 | Val R2: 0.9584\n",
            "Epoch: 10/20...  | Train Loss: 0.0017 | Val Loss: 0.0016 | Train R2: 0.9625 | Val R2: 0.9667\n",
            "Epoch: 11/20...  | Train Loss: 0.0015 | Val Loss: 0.0013 | Train R2: 0.9691 | Val R2: 0.9728\n",
            "Epoch: 12/20...  | Train Loss: 0.0013 | Val Loss: 0.0011 | Train R2: 0.9742 | Val R2: 0.9768\n",
            "Epoch: 13/20...  | Train Loss: 0.0011 | Val Loss: 0.0010 | Train R2: 0.9780 | Val R2: 0.9802\n",
            "Epoch: 14/20...  | Train Loss: 0.0009 | Val Loss: 0.0009 | Train R2: 0.9811 | Val R2: 0.9831\n",
            "Epoch: 15/20...  | Train Loss: 0.0008 | Val Loss: 0.0008 | Train R2: 0.9834 | Val R2: 0.9848\n",
            "Epoch: 16/20...  | Train Loss: 0.0007 | Val Loss: 0.0007 | Train R2: 0.9854 | Val R2: 0.9865\n",
            "Epoch: 17/20...  | Train Loss: 0.0007 | Val Loss: 0.0006 | Train R2: 0.9870 | Val R2: 0.9877\n",
            "Epoch: 18/20...  | Train Loss: 0.0006 | Val Loss: 0.0006 | Train R2: 0.9884 | Val R2: 0.9891\n",
            "Epoch: 19/20...  | Train Loss: 0.0005 | Val Loss: 0.0005 | Train R2: 0.9896 | Val R2: 0.9901\n",
            "Epoch: 20/20...  | Train Loss: 0.0005 | Val Loss: 0.0005 | Train R2: 0.9905 | Val R2: 0.9911\n",
            "CPU times: user 18min 6s, sys: 6.21 s, total: 18min 13s\n",
            "Wall time: 18min 15s\n"
          ],
          "name": "stdout"
        }
      ]
    },
    {
      "cell_type": "code",
      "metadata": {
        "colab": {
          "base_uri": "https://localhost:8080/",
          "height": 507
        },
        "id": "UDEI9qWqVBUo",
        "outputId": "5d5ef45b-cdc8-48a3-a40b-a9934c4417e3"
      },
      "source": [
        "# H_list = [10,20,40,80,100]\n",
        "# plt.rcParams.update({'font.size': 15})\n",
        "# plt.figure(figsize=(10,8))\n",
        "# for i in range(5):\n",
        "#     # train_loss_list2 = [x/len(train_loader) for x in train_loss_list]\n",
        "#     # valid_loss_list2 = [x/len(validation_loader) for x in valid_loss_list]\n",
        "#     plt.plot(dict_valL[H_list[i]],label=\"H_size_\" + str(H_list[i]),linewidth=2)\n",
        "#     #plt.plot(val_acc_l,c='r',label=\"Validation Acc\",linewidth=2)\n",
        "# plt.xlabel('Epochs')\n",
        "# plt.ylabel('Loss')\n",
        "# plt.xlim(1,20)\n",
        "# plt.legend()\n",
        "# plt.show()"
      ],
      "execution_count": null,
      "outputs": [
        {
          "output_type": "display_data",
          "data": {
            "image/png": "[encoded data removed]",
            "text/plain": [
              "<Figure size 720x576 with 1 Axes>"
            ]
          },
          "metadata": {
            "tags": [],
            "needs_background": "light"
          }
        }
      ]
    },
    {
      "cell_type": "markdown",
      "metadata": {
        "id": "G9tnlTSrWnF7"
      },
      "source": [
        "#Iterative"
      ]
    },
    {
      "cell_type": "code",
      "metadata": {
        "colab": {
          "base_uri": "https://localhost:8080/"
        },
        "id": "t2yKFYwpWq1_",
        "outputId": "d859532c-43e1-4905-f3ad-db87d080c223"
      },
      "source": [
        "df_big = df.copy()\n",
        "df_big['time_elapsed'] = df_big['timestep'] - df_big['time_creation']\n",
        "df2 = df_big.sample(30000)\n",
        "#df2 = df_big.copy()\n",
        "df_train = df2[df2['timestep'] < 200.0]\n",
        "df_test = df2[(df2['timestep'] >= 200.0) & (df2['timestep'] < 500.0)]\n",
        "print('Size of training data :', df_train.shape[0])\n",
        "print('Size of test data :', df_test.shape[0])\n",
        "X_train = df_train.loc[:,featureColumns]\n",
        "y_train = df_train['T_self']\n",
        "\n",
        "X_test = df_test.loc[:,featureColumns]\n",
        "y_test = df_test['T_self']\n",
        "\n",
        "X_train,y_train = shuffle(X_train,y_train,random_state=300)\n",
        "X_test,y_test = shuffle(X_test,y_test,random_state=300)"
      ],
      "execution_count": null,
      "outputs": [
        {
          "output_type": "stream",
          "text": [
            "Size of training data : 5041\n",
            "Size of test data : 24959\n"
          ],
          "name": "stdout"
        }
      ]
    },
    {
      "cell_type": "code",
      "metadata": {
        "colab": {
          "base_uri": "https://localhost:8080/"
        },
        "id": "gLzxpPF5VNA6",
        "outputId": "0d48773b-fbf9-47f5-8124-382d956275bb"
      },
      "source": [
        "df_big = df2.copy()\n",
        "df_train_1 = df_big[df_big.timestep < 200.0]\n",
        "df_test_1 = df_big[(df_big.timestep >= 200.0) & (df_big.timestep < 220.0)]\n",
        "\n",
        "# featureColumns = ['timestep','x_distance','y_distance','z_distance','layerNum','Tminus1','Tminus2']+neighborColumns\n",
        "\n",
        "X_train_1, y_train_1= shuffle(df_train_1.loc[:,featureColumns ], df_train_1['T_self'].values, random_state=300)\n",
        "X_test_1,y_test_1 = shuffle(df_test_1.loc[:,featureColumns],df_test_1['T_self'],random_state=300)\n",
        "\n",
        "et_1 = ExtraTreesRegressor(n_estimators=10, n_jobs=-1,random_state=300)\n",
        "et_1.fit(X_train_1,y_train_1)\n",
        "y_predicted_1 = et_1.predict(X_test_1)\n",
        "print('Iteration 1 over....')\n",
        "\n",
        "X_train_2, y_train_2= X_train_1.append(X_test_1, ignore_index=True), np.append( y_train_1, y_predicted_1)\n",
        "X_train_2,y_train_2 = shuffle(X_train_2,y_train_2,random_state=300)\n",
        "\n",
        "df_test_2 = df_big[(df_big.timestep >= 220.0) & (df_big.timestep < 240.0)]\n",
        "X_test_2,y_test_2 = shuffle(df_test_2.loc[:,featureColumns],df_test_2['T_self'],random_state=300)\n",
        "\n",
        "et_2 = ExtraTreesRegressor(n_estimators=10, n_jobs=-1,random_state=300)\n",
        "et_2.fit(X_train_2,y_train_2)\n",
        "y_predicted_2 = et_2.predict(X_test_2)\n",
        "print('Iteration 2 over....')\n",
        "\n",
        "X_train_3, y_train_3= X_train_2.append(X_test_2, ignore_index=True), np.append( y_train_2, y_predicted_2)\n",
        "X_train_3,y_train_3 = shuffle(X_train_3,y_train_3,random_state=300)\n",
        "\n",
        "df_test_3 = df_big[(df_big.timestep >= 240.0) & (df_big.timestep < 260.0)]\n",
        "X_test_3,y_test_3 = shuffle(df_test_3.loc[:,featureColumns],df_test_3['T_self'],random_state=300)\n",
        "\n",
        "et_3 = ExtraTreesRegressor(n_estimators=10, n_jobs=-1,random_state=300)\n",
        "et_3.fit(X_train_3,y_train_3)\n",
        "y_predicted_3 = et_3.predict(X_test_3)\n",
        "print('Iteration 3 over....')\n",
        "\n",
        "X_train_4, y_train_4= X_train_3.append(X_test_3, ignore_index=True), np.append( y_train_3, y_predicted_3)\n",
        "X_train_4,y_train_4 = shuffle(X_train_4,y_train_4,random_state=300)\n",
        "\n",
        "df_test_4 = df_big[(df_big.timestep >= 260.0) & (df_big.timestep < 280.0)]\n",
        "X_test_4,y_test_4 = shuffle(df_test_4.loc[:,featureColumns],df_test_4['T_self'],random_state=300)\n",
        "\n",
        "et_4 = ExtraTreesRegressor(n_estimators=10, n_jobs=-1,random_state=300)\n",
        "et_4.fit(X_train_4,y_train_4)\n",
        "y_predicted_4 = et_4.predict(X_test_4)\n",
        "print('Iteration 4 over....')\n",
        "\n",
        "X_train_5, y_train_5= X_train_4.append(X_test_4, ignore_index=True), np.append( y_train_4, y_predicted_4)\n",
        "X_train_5,y_train_5 = shuffle(X_train_5,y_train_5,random_state=300)\n",
        "\n",
        "df_test_5 = df_big[(df_big.timestep >= 280.0) & (df_big.timestep < 300.0)]\n",
        "X_test_5,y_test_5 = shuffle(df_test_5.loc[:,featureColumns],df_test_5['T_self'],random_state=300)\n",
        "\n",
        "et_5 = ExtraTreesRegressor(n_estimators=10, n_jobs=-1,random_state=300)\n",
        "et_5.fit(X_train_5,y_train_5)\n",
        "y_predicted_5 = et_5.predict(X_test_5)\n",
        "print('Iteration 5 over....')\n",
        "\n",
        "\n",
        "print ('Iterative training results')\n",
        "print (r2(y_test_1,y_predicted_1), mape(y_test_1,y_predicted_1))\n",
        "print (r2(y_test_2,y_predicted_2), mape(y_test_2,y_predicted_2))\n",
        "print (r2(y_test_3,y_predicted_3), mape(y_test_3,y_predicted_3))\n",
        "print (r2(y_test_4,y_predicted_4), mape(y_test_4,y_predicted_4))\n",
        "print (r2(y_test_5,y_predicted_5), mape(y_test_5,y_predicted_5))\n",
        "\n",
        "print ('One step training results')\n",
        "et_direct = ExtraTreesRegressor(n_estimators=10, n_jobs=-1,random_state=300)\n",
        "et_direct.fit(X_train_1,y_train_1)\n",
        "y_predicted = et_direct.predict(X_test_5)\n",
        "\n",
        "r2(y_test_5,y_predicted) ,mape(y_test_5,y_predicted)"
      ],
      "execution_count": null,
      "outputs": [
        {
          "output_type": "stream",
          "text": [
            "Iteration 1 over....\n",
            "Iteration 2 over....\n",
            "Iteration 3 over....\n",
            "Iteration 4 over....\n",
            "Iteration 5 over....\n",
            "Iterative training results\n",
            "0.9547 1.9304\n",
            "0.9601 1.8178\n",
            "0.9492 2.9099\n",
            "0.9579 1.7542\n",
            "0.9642 1.9935\n",
            "One step training results\n"
          ],
          "name": "stdout"
        },
        {
          "output_type": "execute_result",
          "data": {
            "text/plain": [
              "(0.9543, 2.1509)"
            ]
          },
          "metadata": {
            "tags": []
          },
          "execution_count": 126
        }
      ]
    },
    {
      "cell_type": "code",
      "metadata": {
        "id": "WKJXhGb0Wyvl"
      },
      "source": [
        "def compare_iterative_direct_prediction(n=5, init=100, TIMESTEP_ITER = 50, n_estimators=10):\n",
        "    \n",
        "    df_train_i_minus_1 = df_big[df_big.timestep < init]\n",
        "    df_test_i_minus_1 = df_big[(df_big.timestep >= init) & (df_big.timestep < init+TIMESTEP_ITER)]\n",
        "#     print (df_test_i_minus_1)\n",
        "\n",
        "    X_train_i_minus_1, y_train_i_minus_1= shuffle(df_train_i_minus_1.loc[:,featureColumns ], df_train_i_minus_1['T_self'].values, random_state=300)\n",
        "    X_test_i_minus_1,y_test_i_minus_1 = shuffle(df_test_i_minus_1.loc[:,featureColumns],df_test_i_minus_1['T_self'],random_state=300)\n",
        "\n",
        "    et_i_minus_1 = ExtraTreesRegressor(n_estimators=n_estimators, n_jobs=-1,random_state=300)\n",
        "    start = time()\n",
        "    et_i_minus_1.fit(X_train_i_minus_1,y_train_i_minus_1)\n",
        "    y_predicted_i_minus_1 = et_i_minus_1.predict(X_test_i_minus_1)\n",
        "    \n",
        "    START = init\n",
        "    STOP = init + TIMESTEP_ITER\n",
        "    \n",
        "#     print (\"START is: \",START)\n",
        "#     print (\"STOP is: \", STOP)\n",
        "    \n",
        "#     print (\"r2 is: \",r2(y_test_i_minus_1,y_predicted_i_minus_1) , \"mape is: \", mape(y_test_i_minus_1,y_predicted_i_minus_1))\n",
        "    \n",
        "    temp_y = y_test_i_minus_1\n",
        "    temp_predicted = y_predicted_i_minus_1\n",
        "\n",
        "    print('Iteration 1 over....')\n",
        "#     print('\\n')\n",
        "    \n",
        "    \n",
        "    for i in range(2,n+1):\n",
        "        X_train_i, y_train_i= X_train_i_minus_1.append(X_test_i_minus_1, ignore_index=True), np.append(y_train_i_minus_1, y_predicted_i_minus_1)\n",
        "#         print(X_train_i.iloc[:,0:2].tail(50))\n",
        "#         print(X_train_i_minus_1.iloc[:,0:2].tail(50))\n",
        "        X_train_i,y_train_i = shuffle(X_train_i,y_train_i,random_state=300)\n",
        "        START = START + TIMESTEP_ITER\n",
        "        STOP = STOP + TIMESTEP_ITER\n",
        "#         print (\"START is: \",START)\n",
        "#         print (\"STOP is: \", STOP)\n",
        "        df_test_i = df_big[(df_big.timestep >= START) & (df_big.timestep < STOP)]\n",
        "#         print (df_test_i)\n",
        "        X_test_i,y_test_i = shuffle(df_test_i.loc[:,featureColumns],df_test_i['T_self'],random_state=300)\n",
        "\n",
        "        et_i = ExtraTreesRegressor(n_estimators=n_estimators, n_jobs=-1,random_state=300)\n",
        "        et_i.fit(X_train_i,y_train_i)\n",
        "        y_predicted_i = et_i.predict(X_test_i)\n",
        "#         print (\"r2 is: \", r2(y_test_i,y_predicted_i),\"mape is: \",mape(y_test_i,y_predicted_i))\n",
        "        \n",
        "        temp_y = temp_y.append(y_test_i)\n",
        "        temp_predicted = np.append(temp_predicted,y_predicted_i)\n",
        "        \n",
        "        X_train_i_minus_1 = X_train_i\n",
        "        X_test_i_minus_1 = X_test_i\n",
        "        y_train_i_minus_1 = y_train_i\n",
        "#         y_test_i_minus_1 = y_test_i\n",
        "        y_predicted_i_minus_1 = y_predicted_i\n",
        "        \n",
        "        print('Iteration '+str(i)+' over....')\n",
        "#         print('\\n')\n",
        "#         if i==2:\n",
        "#             break\n",
        "\n",
        "    stop = time()\n",
        "#     print ('time elapsed for iterative is ',(stop-start),'seconds')\n",
        "#     print ('\\n')\n",
        "\n",
        "#     print (r2(y_test_i,y_predicted_i) ,mape(y_test_i,y_predicted_i))\n",
        "\n",
        "    print('\\n')\n",
        "    print ('Iterative Prediction Accuracy for all timesteps predicted: ')\n",
        "    \n",
        "#     print (temp_y)\n",
        "#     print (temp_predicted)\n",
        "    \n",
        "#     print (len(temp_y),len(temp_predicted))\n",
        "    \n",
        "    print (\"r2 is: \", r2(temp_y,temp_predicted) ,\"mape is: \", mape(temp_y,temp_predicted))    \n",
        "    print('\\n')\n",
        "    \n",
        "\n",
        "    print ('Non-iterative accuracy for last TIME_STEP_ITER timesteps: ')\n",
        "    df_train_1 = df_big[df_big.timestep < init]\n",
        "    X_train_1, y_train_1= shuffle(df_train_1.loc[:,featureColumns ], df_train_1['T_self'].values, random_state=300)\n",
        "    start = time()\n",
        "    et_direct = ExtraTreesRegressor(n_estimators=n_estimators, n_jobs=-1,random_state=300)\n",
        "    et_direct.fit(X_train_1,y_train_1)\n",
        "    y_predicted_direct = et_direct.predict(X_test_i)\n",
        "\n",
        "    stop = time()\n",
        "#     print ('time elapsed for direct is ',(stop-start),'seconds')\n",
        "    print (\"r2 is: \", r2(y_test_i,y_predicted_direct), \"mape is: \", mape(y_test_i,y_predicted_direct))\n",
        "    print('\\n')\n",
        "\n",
        "    \n",
        "    \n",
        "    print ('Non-iterative accuracy for all timesteps predicted: ')\n",
        "    \n",
        "    df_train = df_big[df_big['timestep'] < init]\n",
        "    df_test = df_big[(df_big['timestep'] >= init) & (df_big['timestep'] < (init+ (TIMESTEP_ITER * n) ))]\n",
        "\n",
        "\n",
        "    X_train = df_train.loc[:,featureColumns]\n",
        "    y_train = df_train['T_self']\n",
        "\n",
        "    X_test = df_test.loc[:,featureColumns]\n",
        "    y_test = df_test['T_self']\n",
        "\n",
        "    X_train,y_train = shuffle(X_train,y_train,random_state=300)\n",
        "    X_test,y_test = shuffle(X_test,y_test,random_state=300)\n",
        "    \n",
        "    et_direct = ExtraTreesRegressor(n_estimators=n_estimators, n_jobs=-1,random_state=300)\n",
        "    et_direct.fit(X_train,y_train)\n",
        "    predicted = et_direct.predict(X_test)\n",
        "    print (\"r2 is: \", r2(y_test,predicted), \"mape is: \", mape(y_test,predicted))"
      ],
      "execution_count": null,
      "outputs": []
    },
    {
      "cell_type": "code",
      "metadata": {
        "colab": {
          "base_uri": "https://localhost:8080/"
        },
        "id": "agBcX7oCXMa_",
        "outputId": "808a8904-f740-4cf4-9aaf-7393a0f07e65"
      },
      "source": [
        "compare_iterative_direct_prediction(n=10,init=200,TIMESTEP_ITER=6,n_estimators=10)"
      ],
      "execution_count": null,
      "outputs": [
        {
          "output_type": "stream",
          "text": [
            "Iteration 1 over....\n",
            "Iteration 2 over....\n",
            "Iteration 3 over....\n",
            "Iteration 4 over....\n",
            "Iteration 5 over....\n",
            "Iteration 6 over....\n",
            "Iteration 7 over....\n",
            "Iteration 8 over....\n",
            "Iteration 9 over....\n",
            "Iteration 10 over....\n",
            "\n",
            "\n",
            "Iterative Prediction Accuracy for all timesteps predicted: \n",
            "r2 is:  0.9683 mape is:  1.7772\n",
            "\n",
            "\n",
            "Non-iterative accuracy for last TIME_STEP_ITER timesteps: \n",
            "r2 is:  0.9507 mape is:  4.335\n",
            "\n",
            "\n",
            "Non-iterative accuracy for all timesteps predicted: \n",
            "r2 is:  0.9592 mape is:  2.4981\n"
          ],
          "name": "stdout"
        }
      ]
    },
    {
      "cell_type": "code",
      "metadata": {
        "colab": {
          "base_uri": "https://localhost:8080/"
        },
        "id": "sTGN6DSvXOU-",
        "outputId": "f794037f-8d1a-446a-8935-95eb9f7f93bc"
      },
      "source": [
        "compare_iterative_direct_prediction(n=20,init=200,TIMESTEP_ITER=6,n_estimators=10)"
      ],
      "execution_count": null,
      "outputs": [
        {
          "output_type": "stream",
          "text": [
            "Iteration 1 over....\n",
            "Iteration 2 over....\n",
            "Iteration 3 over....\n",
            "Iteration 4 over....\n",
            "Iteration 5 over....\n",
            "Iteration 6 over....\n",
            "Iteration 7 over....\n",
            "Iteration 8 over....\n",
            "Iteration 9 over....\n",
            "Iteration 10 over....\n",
            "Iteration 11 over....\n",
            "Iteration 12 over....\n",
            "Iteration 13 over....\n",
            "Iteration 14 over....\n",
            "Iteration 15 over....\n",
            "Iteration 16 over....\n",
            "Iteration 17 over....\n",
            "Iteration 18 over....\n",
            "Iteration 19 over....\n",
            "Iteration 20 over....\n",
            "\n",
            "\n",
            "Iterative Prediction Accuracy for all timesteps predicted: \n",
            "r2 is:  0.9654 mape is:  1.9319\n",
            "\n",
            "\n",
            "Non-iterative accuracy for last TIME_STEP_ITER timesteps: \n",
            "r2 is:  0.9509 mape is:  2.6861\n",
            "\n",
            "\n",
            "Non-iterative accuracy for all timesteps predicted: \n",
            "r2 is:  0.959 mape is:  2.4033\n"
          ],
          "name": "stdout"
        }
      ]
    },
    {
      "cell_type": "code",
      "metadata": {
        "colab": {
          "base_uri": "https://localhost:8080/"
        },
        "id": "3092oTUyXSHM",
        "outputId": "7b24887c-09b4-495f-87df-1179bdbdf663"
      },
      "source": [
        "compare_iterative_direct_prediction(n=30,init=200,TIMESTEP_ITER=6,n_estimators=10)"
      ],
      "execution_count": null,
      "outputs": [
        {
          "output_type": "stream",
          "text": [
            "Iteration 1 over....\n",
            "Iteration 2 over....\n",
            "Iteration 3 over....\n",
            "Iteration 4 over....\n",
            "Iteration 5 over....\n",
            "Iteration 6 over....\n",
            "Iteration 7 over....\n",
            "Iteration 8 over....\n",
            "Iteration 9 over....\n",
            "Iteration 10 over....\n",
            "Iteration 11 over....\n",
            "Iteration 12 over....\n",
            "Iteration 13 over....\n",
            "Iteration 14 over....\n",
            "Iteration 15 over....\n",
            "Iteration 16 over....\n",
            "Iteration 17 over....\n",
            "Iteration 18 over....\n",
            "Iteration 19 over....\n",
            "Iteration 20 over....\n",
            "Iteration 21 over....\n",
            "Iteration 22 over....\n",
            "Iteration 23 over....\n",
            "Iteration 24 over....\n",
            "Iteration 25 over....\n",
            "Iteration 26 over....\n",
            "Iteration 27 over....\n",
            "Iteration 28 over....\n",
            "Iteration 29 over....\n",
            "Iteration 30 over....\n",
            "\n",
            "\n",
            "Iterative Prediction Accuracy for all timesteps predicted: \n",
            "r2 is:  0.9614 mape is:  1.7034\n",
            "\n",
            "\n",
            "Non-iterative accuracy for last TIME_STEP_ITER timesteps: \n",
            "r2 is:  0.9981 mape is:  0.5096\n",
            "\n",
            "\n",
            "Non-iterative accuracy for all timesteps predicted: \n",
            "r2 is:  0.955 mape is:  2.0503\n"
          ],
          "name": "stdout"
        }
      ]
    },
    {
      "cell_type": "code",
      "metadata": {
        "colab": {
          "base_uri": "https://localhost:8080/"
        },
        "id": "hsudxJ3pXamZ",
        "outputId": "fee97b83-e774-44cc-cc9b-0126fcb1db87"
      },
      "source": [
        "compare_iterative_direct_prediction(n=40,init=200,TIMESTEP_ITER=6,n_estimators=10)"
      ],
      "execution_count": null,
      "outputs": [
        {
          "output_type": "stream",
          "text": [
            "Iteration 1 over....\n",
            "Iteration 2 over....\n",
            "Iteration 3 over....\n",
            "Iteration 4 over....\n",
            "Iteration 5 over....\n",
            "Iteration 6 over....\n",
            "Iteration 7 over....\n",
            "Iteration 8 over....\n",
            "Iteration 9 over....\n",
            "Iteration 10 over....\n",
            "Iteration 11 over....\n",
            "Iteration 12 over....\n",
            "Iteration 13 over....\n",
            "Iteration 14 over....\n",
            "Iteration 15 over....\n",
            "Iteration 16 over....\n",
            "Iteration 17 over....\n",
            "Iteration 18 over....\n",
            "Iteration 19 over....\n",
            "Iteration 20 over....\n",
            "Iteration 21 over....\n",
            "Iteration 22 over....\n",
            "Iteration 23 over....\n",
            "Iteration 24 over....\n",
            "Iteration 25 over....\n",
            "Iteration 26 over....\n",
            "Iteration 27 over....\n",
            "Iteration 28 over....\n",
            "Iteration 29 over....\n",
            "Iteration 30 over....\n",
            "Iteration 31 over....\n",
            "Iteration 32 over....\n",
            "Iteration 33 over....\n",
            "Iteration 34 over....\n",
            "Iteration 35 over....\n",
            "Iteration 36 over....\n",
            "Iteration 37 over....\n",
            "Iteration 38 over....\n",
            "Iteration 39 over....\n",
            "Iteration 40 over....\n",
            "\n",
            "\n",
            "Iterative Prediction Accuracy for all timesteps predicted: \n",
            "r2 is:  0.9628 mape is:  1.6676\n",
            "\n",
            "\n",
            "Non-iterative accuracy for last TIME_STEP_ITER timesteps: \n",
            "r2 is:  0.9633 mape is:  1.79\n",
            "\n",
            "\n",
            "Non-iterative accuracy for all timesteps predicted: \n",
            "r2 is:  0.9538 mape is:  1.9882\n"
          ],
          "name": "stdout"
        }
      ]
    },
    {
      "cell_type": "code",
      "metadata": {
        "colab": {
          "base_uri": "https://localhost:8080/"
        },
        "id": "3X5LOhbfXjFB",
        "outputId": "1757c796-49ad-4a9c-dffc-2374d4423bce"
      },
      "source": [
        "compare_iterative_direct_prediction(n=50,init=200,TIMESTEP_ITER=6,n_estimators=10)"
      ],
      "execution_count": null,
      "outputs": [
        {
          "output_type": "stream",
          "text": [
            "Iteration 1 over....\n",
            "Iteration 2 over....\n",
            "Iteration 3 over....\n",
            "Iteration 4 over....\n",
            "Iteration 5 over....\n",
            "Iteration 6 over....\n",
            "Iteration 7 over....\n",
            "Iteration 8 over....\n",
            "Iteration 9 over....\n",
            "Iteration 10 over....\n",
            "Iteration 11 over....\n",
            "Iteration 12 over....\n",
            "Iteration 13 over....\n",
            "Iteration 14 over....\n",
            "Iteration 15 over....\n",
            "Iteration 16 over....\n",
            "Iteration 17 over....\n",
            "Iteration 18 over....\n",
            "Iteration 19 over....\n",
            "Iteration 20 over....\n",
            "Iteration 21 over....\n",
            "Iteration 22 over....\n",
            "Iteration 23 over....\n",
            "Iteration 24 over....\n",
            "Iteration 25 over....\n",
            "Iteration 26 over....\n",
            "Iteration 27 over....\n",
            "Iteration 28 over....\n",
            "Iteration 29 over....\n",
            "Iteration 30 over....\n",
            "Iteration 31 over....\n",
            "Iteration 32 over....\n",
            "Iteration 33 over....\n",
            "Iteration 34 over....\n",
            "Iteration 35 over....\n",
            "Iteration 36 over....\n",
            "Iteration 37 over....\n",
            "Iteration 38 over....\n",
            "Iteration 39 over....\n",
            "Iteration 40 over....\n",
            "Iteration 41 over....\n",
            "Iteration 42 over....\n",
            "Iteration 43 over....\n",
            "Iteration 44 over....\n",
            "Iteration 45 over....\n",
            "Iteration 46 over....\n",
            "Iteration 47 over....\n",
            "Iteration 48 over....\n",
            "Iteration 49 over....\n",
            "Iteration 50 over....\n",
            "\n",
            "\n",
            "Iterative Prediction Accuracy for all timesteps predicted: \n",
            "r2 is:  0.9634 mape is:  1.6904\n",
            "\n",
            "\n",
            "Non-iterative accuracy for last TIME_STEP_ITER timesteps: \n",
            "r2 is:  0.9783 mape is:  1.2314\n",
            "\n",
            "\n",
            "Non-iterative accuracy for all timesteps predicted: \n",
            "r2 is:  0.9583 mape is:  1.9088\n"
          ],
          "name": "stdout"
        }
      ]
    }
  ]
}